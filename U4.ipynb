{
 "metadata": {
  "name": ""
 },
 "nbformat": 3,
 "nbformat_minor": 0,
 "worksheets": [
  {
   "cells": [
    {
     "cell_type": "heading",
     "level": 1,
     "metadata": {},
     "source": [
      "J\u0119zyk Python - Laboratorium 4."
     ]
    },
    {
     "cell_type": "heading",
     "level": 2,
     "metadata": {},
     "source": [
      "Django"
     ]
    },
    {
     "cell_type": "markdown",
     "metadata": {},
     "source": [
      "* The Web framework for perfectionists with deadlines\n",
      "* https://www.djangoproject.com/\n",
      "* DRY - Don't Repeat Yourself. \"Every piece of knowledge must have a single, unambiguous, authoritative representation within a system.\" http://c2.com/cgi/wiki?DontRepeatYourself\n",
      "* MVC vs MVT - django cz\u0119sto okre\u015blane jest mianem MVT - Model View Template\n",
      "* ORM - Object Relational Mapper (modele django)\n",
      "* Routing URL oparty na wyra\u017ceniach regularnych\n",
      "* Template system \n",
      "* Cacheing \n",
      "* Lokalizacja i t\u0142umaczenia\n",
      "* Automatyczny panel admina"
     ]
    },
    {
     "cell_type": "raw",
     "metadata": {},
     "source": [
      "$ django-admin.py startproject django_u4"
     ]
    },
    {
     "cell_type": "raw",
     "metadata": {},
     "source": [
      ".\n",
      "|____ django_u4\n",
      "  |____ django_u4\n",
      "  | |____ __init__.py\n",
      "  | |____ settings.py\n",
      "  | |____ urls.py\n",
      "  | |____ wsgi.py\n",
      "  |____ manage.py"
     ]
    },
    {
     "cell_type": "heading",
     "level": 2,
     "metadata": {},
     "source": [
      "settings.py"
     ]
    },
    {
     "cell_type": "markdown",
     "metadata": {},
     "source": [
      "* Plik przechowuj\u0105cy wszystkie ustawienia frameworku dla danego projektu\n",
      "* Najwa\u017cniejsze parametry:\n",
      "    * INSTALLED_APPS - wskazujemy tu jakie aplikacje (modu\u0142y django) maj\u0105 by\u0107 wpi\u0119te w runtime \n",
      "    * DATABASES, CACHES - s\u0142ownik konfiguracyjny dla baz danych (jest wsparcie dla wielu baz), oraz ew. serwer\u00f3w CACHE; domy\u015bln\u0105 baz\u0105 danych od wersji 1.6 jest SQLite\n",
      "    * DEBUG - flaga oznaczaj\u0105ca prac\u0119\u00a0django w trybie debug (runtime zbiera du\u017co informacji o wywo\u0142aniu) - nie u\u017cywa\u0107 na produkcji: wolne i niebezpieczne\n",
      "    * LANGUAGE_CODE, TIME_ZONE, USE_I18N, USE_L10N, USE_TZ - django w pe\u0142ni wspiera lokalizacje projektu, u\u017cywa stref czasowych (daty w bazie zapisywane s\u0105\u00a0zwykle w UTC); je\u015bli bardzo chcemy mo\u017cemy to wy\u0142\u0105czy\u0107 (tylko po co, legacy?)"
     ]
    },
    {
     "cell_type": "heading",
     "level": 2,
     "metadata": {},
     "source": [
      "Aplikacje django"
     ]
    },
    {
     "cell_type": "markdown",
     "metadata": {},
     "source": [
      "* DRY - aplikacje w django staramy pisa\u0107\u00a0si\u0119 w taki spos\u00f3b, aby by\u0142y maksymalnie reu\u017cytkowalne z projektu na projekt\n",
      "* Aplikacj\u0119 mamy mo\u017cliwo\u015b\u0107 trzyma\u0107\u00a0jako \"standalone\" lub jako podcz\u0119\u015b\u0107\u00a0projektu nad kt\u00f3rym pracujemy. Od tego zale\u017cy gdzie umie\u015bcimy j\u0105 w hierarchi pakiet\u00f3w\n",
      "\n",
      "\n",
      "\n",
      "    import core\n",
      "    import django_u4.core"
     ]
    },
    {
     "cell_type": "raw",
     "metadata": {},
     "source": [
      "$ python manage.py startapp core\n",
      "$ mv core/ django_u4/"
     ]
    },
    {
     "cell_type": "raw",
     "metadata": {},
     "source": [
      ".\n",
      "|____ core \n",
      "  |____ __init__.py \n",
      "  |____ admin.py    \n",
      "  |____ models.py   \n",
      "  |____ tests.py    \n",
      "  |____ views.py"
     ]
    },
    {
     "cell_type": "markdown",
     "metadata": {},
     "source": [
      "Aktywujemy aplikacj\u0119 dok\u0142adaj\u0105c jej \u015bcie\u017ck\u0119 do INSTALLED_APPS.\n",
      "\n",
      "django_u4/settings.py\n",
      "\n",
      "    \n",
      "    INSTALLED_APPS = (\n",
      "        'django.contrib.admin',\n",
      "        'django.contrib.auth',\n",
      "        'django.contrib.contenttypes',\n",
      "        'django.contrib.sessions',\n",
      "        'django.contrib.messages',\n",
      "        'django.contrib.staticfiles',\n",
      "        'django_u4.core',\n",
      "    )"
     ]
    },
    {
     "cell_type": "heading",
     "level": 2,
     "metadata": {},
     "source": [
      "Modele"
     ]
    },
    {
     "cell_type": "markdown",
     "metadata": {},
     "source": [
      "* W django najpierw tworzymy klasy modeli\n",
      "* Django automatycznie generuje SQL potrzebny do utworzenia odpowiednich tabel w bazie danych\n",
      "* Mo\u017cliwe jest te\u017c zrobienie klas modeli pod istniej\u0105cy ju\u017c\u00a0model bazy danych (legacy support) - ale zwykle si\u0119 tak nie robi"
     ]
    },
    {
     "cell_type": "markdown",
     "metadata": {},
     "source": [
      "django_u4/core/models.py\n",
      "\n",
      "    from django.db import models\n",
      "\n",
      "    # Create your models here.\n",
      "    \n",
      "    class Foo(models.Model):\n",
      "        CATEGORY_TYPES = ((1, 'type bar'), (2, 'type baz'))\n",
      "        name = models.TextField()\n",
      "        category = models.IntegerField(choices=CATEGORY_TYPES)\n"
     ]
    },
    {
     "cell_type": "markdown",
     "metadata": {},
     "source": [
      "Mo\u017cemy podgl\u0105dna\u0107 SQL modeli tej aplikacji:\n",
      "\n",
      "    $ python manage.py sql core\n",
      "    BEGIN;\n",
      "    CREATE TABLE \"core_foo\" (\n",
      "        \"id\" integer NOT NULL PRIMARY KEY,\n",
      "        \"name\" text NOT NULL,\n",
      "        \"category\" integer NOT NULL\n",
      "    )\n",
      "    ;\n",
      "    \n",
      "    COMMIT;"
     ]
    },
    {
     "cell_type": "markdown",
     "metadata": {},
     "source": [
      "Synchronizacja modeli do bazy danych odbywa si\u0119\u00a0jednak w og\u00f3le z pomini\u0119ciem patrzenia na SQL za pomoc\u0105 narz\u0119dzia syncdb:\n",
      "\n",
      "    $ python manage.py syncdb\n",
      "    ...\n",
      "    Creating table core_foo\n",
      "    ..."
     ]
    },
    {
     "cell_type": "heading",
     "level": 2,
     "metadata": {},
     "source": [
      "Panel admina"
     ]
    },
    {
     "cell_type": "markdown",
     "metadata": {},
     "source": [
      "* Django posiada automatyczny panel admina \n",
      "* Mo\u017cemy zarz\u0105dza\u0107 obiektami \n",
      "* Trzeba aktywowa\u0107\u00a0admina per model w pliku admin.py"
     ]
    },
    {
     "cell_type": "markdown",
     "metadata": {},
     "source": [
      "django_u4/core/admin.py\n",
      "\n",
      "\n",
      "    from django.contrib import admin\n",
      "\n",
      "    # Register your models here.\n",
      "    from django_u4.core.models import Foo\n",
      "    \n",
      "    admin.site.register(Foo)"
     ]
    },
    {
     "cell_type": "markdown",
     "metadata": {},
     "source": [
      "Mo\u017cemy ju\u017c uruchomi\u0107\u00a0serwer deweloperski HTTP django:\n",
      "\n",
      "    $ python manage.py runserver"
     ]
    },
    {
     "cell_type": "markdown",
     "metadata": {},
     "source": [
      "<img width=800 src=\"files/U4_img/Screenshot 2013-11-20 10.30.36.png\">\n",
      "<img width=800 src=\"files/U4_img/Screenshot 2013-11-20 10.30.42.png\">\n",
      "<img width=800 src=\"files/U4_img/Screenshot 2013-11-20 10.31.10.png\">"
     ]
    },
    {
     "cell_type": "heading",
     "level": 2,
     "metadata": {},
     "source": [
      "Routing URL"
     ]
    },
    {
     "cell_type": "markdown",
     "metadata": {},
     "source": [
      "* Django nie posiada domy\u015blnego routingu URL \n",
      "* Routing url definiowany jest w plikach nazywanych urls.py (pliki te s\u0105\u00a0dystrybuowane per aplikacja, nale\u017cy je do\u0142\u0105cza\u0107\u00a0do g\u0142\u00f3wnego pliku urls.py projektu)\n",
      "* Pojedynczy routing definiowany jest z u\u017cyciem wyra\u017cenia regularnego"
     ]
    },
    {
     "cell_type": "markdown",
     "metadata": {},
     "source": [
      "django_u4/urls.py\n",
      "\n",
      "\n",
      "    from django.conf.urls import patterns, include, url\n",
      "    \n",
      "    from django.contrib import admin\n",
      "    admin.autodiscover()\n",
      "    \n",
      "    urlpatterns = patterns('',\n",
      "        # Examples:\n",
      "        url(r'^foo/', include('django_u4.core.urls')),\n",
      "        url(r'^simple_view', 'django_u4.views.simple_view'),\n",
      "    \n",
      "    \n",
      "        url(r'^admin/', include(admin.site.urls)),\n",
      "    )\n"
     ]
    },
    {
     "cell_type": "markdown",
     "metadata": {},
     "source": [
      "django_u4/core/urls.py\n",
      "\n",
      "    \n",
      "    from django.conf.urls import patterns, include, url\n",
      "    from django_u4.core.views import FooListView\n",
      "    \n",
      "    urlpatterns = patterns('',\n",
      "        url(r'^list/$', FooListView.as_view()),\n",
      "    )\n"
     ]
    },
    {
     "cell_type": "heading",
     "level": 2,
     "metadata": {},
     "source": [
      "Widoki"
     ]
    },
    {
     "cell_type": "markdown",
     "metadata": {},
     "source": [
      "* Widok w django jest realizaowany przez dowolny callable \n",
      "* Widoki podpina si\u0119\u00a0w routingu URL w plikach urls.py\n",
      "* W django spotykamy dwa rodzaje widok\u00f3w: FBV i CBV (Function Based Views i Class Based Views)\n",
      "* Widoki maj\u0105 zwr\u00f3ci\u0107 zawsze obiekt typu HttpResponse lub wyj\u0105tek kt\u00f3ry zostanie zinterpretowany jako 500 Internal Server Error\n",
      "* W przypadku CBV klasa reprezentuj\u0105ca widok zbudowana jest z mixin\u00f3w, a sam widok tworzony jest na zasadzie \"fabryki\" z u\u017cyciem metody statycznej klasy widoku ``as_view()``"
     ]
    },
    {
     "cell_type": "markdown",
     "metadata": {},
     "source": [
      "django_u4/core/urls.py\n",
      "\n",
      "    from django.conf.urls import patterns, include, url\n",
      "    from django_u4.core.views import FooListView\n",
      "    \n",
      "    urlpatterns = patterns('',\n",
      "        url(r'^list/$', FooListView.as_view()),\n",
      "    )\n"
     ]
    },
    {
     "cell_type": "markdown",
     "metadata": {},
     "source": [
      "django_u4/core/views.py\n",
      "\n",
      "\n",
      "    from django.shortcuts import render\n",
      "    from django.views.generic import ListView\n",
      "    from django_u4.core.models import Foo\n",
      "    \n",
      "    \n",
      "    class FooListView(ListView):\n",
      "        model = Foo"
     ]
    },
    {
     "cell_type": "heading",
     "level": 2,
     "metadata": {},
     "source": [
      "Template"
     ]
    },
    {
     "cell_type": "markdown",
     "metadata": {},
     "source": [
      "* FooListView dziedziczy po ListView\n",
      "* ListView jest widokiem, kt\u00f3ry na swojej \u015bcie\u017cce dziedziczenia posiada TemplateView, a wi\u0119c generuje wyj\u015bcie z u\u017cyciem mechanizmu templatowego\n",
      "* Domy\u015blnie szukany jest plik w \u015bcie\u017cce APPLICATIONS/templates/core/foo_list.html dlatego nie zosta\u0142 zdefiniowany explicite \u017caden plik templat\u00f3w \n",
      "* Mo\u017cemy zdefiniowa\u0107 inn\u0105\u00a0nazw\u0119 pliku template np.\n",
      "\n",
      "    \n",
      "    class FooListView(ListView):\n",
      "        model = Foo\n",
      "        template_name = 'core/foo_list.html'"
     ]
    },
    {
     "cell_type": "markdown",
     "metadata": {},
     "source": [
      "J\u0119zyk templat\u00f3w oferuje proste warunki {% if %}, p\u0119tle {% for %} itp. rzeczy. Nie nale\u017cy jednak przesadza\u0107\u00a0z umieszczaniem zbyt du\u017cej logiki w templatach (jest on celowo minimalistyczny)."
     ]
    },
    {
     "cell_type": "markdown",
     "metadata": {},
     "source": [
      "django_u4/core/templates/foo_list.html\n",
      "\n",
      "\n",
      "    <html>\n",
      "    <body>\n",
      "    <h1>\n",
      "        List of Foo\n",
      "    </h1>\n",
      "    <ul>\n",
      "        {% for object in object_list %}\n",
      "            <li> {{ object.name }} ({{ object.category }} - {{ object.get_category_display }})</li>\n",
      "        {% endfor %}\n",
      "    </ul>\n",
      "    </body>\n",
      "    </html>"
     ]
    },
    {
     "cell_type": "markdown",
     "metadata": {},
     "source": [
      "<img src=\"files/U4_img/Screenshot 2013-11-20 11.08.14.png\">"
     ]
    },
    {
     "cell_type": "heading",
     "level": 2,
     "metadata": {},
     "source": [
      "Zadania do wykonania"
     ]
    },
    {
     "cell_type": "markdown",
     "metadata": {},
     "source": [
      "1. (1 punkt) Napisz wyra\u017cenie regularne dopasowuj\u0105ce:\n",
      "    1. ka\u017cdy ostatni parametr (z warto\u015bci\u0105) w tagu XML'owym, z wyj\u0105tkiem parametru src.\n",
      "    1. zakres dat od 1981-04-15 do 1995-11-21.\n",
      "\n",
      "2. Rozszerz przyk\u0142adow\u0105 aplikacj\u0119\u00a0django, aby jej model dodatkowo posiada\u0142 pole daty oraz \"waga\" (liczba ca\u0142kowita).\n",
      "\n",
      "3. (1 punkt) Napisz w Django widoki z nast\u0119puj\u0105cymi parametrami:\n",
      "    1. widok wy\u015bwietlaj\u0105cy obiekty Foo na li\u015bcie tylko z przedzia\u0142u dat od yyyy/mm/dd do yyyy/mm/dd (daty maj\u0105 by\u0107 elementem URLa)\n",
      "    1. widok wy\u015bwietlaj\u0105cy obiekty Foo z daty yyyy/mm/dd i posiadaj\u0105ce warto\u015b\u0107 liczbow\u0105\u00a0wagi mniejsz\u0105\u00a0od podanej (oba parametry podajemy GETem w URLu)\n",
      "\n",
      "\n"
     ]
    }
   ],
   "metadata": {}
  }
 ]
}