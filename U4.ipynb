{
 "metadata": {
  "name": ""
 },
 "nbformat": 3,
 "nbformat_minor": 0,
 "worksheets": [
  {
   "cells": [
    {
     "cell_type": "heading",
     "level": 1,
     "metadata": {},
     "source": [
      "J\u0119zyk Python - Laboratorium 4."
     ]
    },
    {
     "cell_type": "heading",
     "level": 2,
     "metadata": {},
     "source": [
      "Django"
     ]
    },
    {
     "cell_type": "markdown",
     "metadata": {},
     "source": [
      "* The Web framework for perfectionists with deadlines\n",
      "* https://www.djangoproject.com/\n",
      "* DRY - Don't Repeat Yourself. \"Every piece of knowledge must have a single, unambiguous, authoritative representation within a system.\" http://c2.com/cgi/wiki?DontRepeatYourself\n",
      "* ORM - Object Relational Mapper (modele django)\n",
      "* Routing URL oparty na wyra\u017ceniach regularnych\n",
      "* Template system \n",
      "* Cacheing \n",
      "* Lokalizacja i t\u0142umaczenia\n",
      "* Automatyczny panel admina"
     ]
    },
    {
     "cell_type": "raw",
     "metadata": {},
     "source": [
      "$ django-admin.py startproject django_u4"
     ]
    },
    {
     "cell_type": "raw",
     "metadata": {},
     "source": [
      ".\n",
      "|____ django_u4\n",
      "  |____ django_u4\n",
      "  | |____ __init__.py\n",
      "  | |____ settings.py\n",
      "  | |____ urls.py\n",
      "  | |____ wsgi.py\n",
      "  |____ manage.py"
     ]
    },
    {
     "cell_type": "raw",
     "metadata": {},
     "source": [
      "$ python manage.py startapp core\n",
      "$ mv core/ django_u4/"
     ]
    },
    {
     "cell_type": "raw",
     "metadata": {},
     "source": [
      ".\n",
      "|____ core \n",
      "  |____ __init__.py \n",
      "  |____ admin.py    \n",
      "  |____ models.py   \n",
      "  |____ tests.py    \n",
      "  |____ views.py"
     ]
    },
    {
     "cell_type": "heading",
     "level": 2,
     "metadata": {},
     "source": [
      "Zadania do wykonania"
     ]
    },
    {
     "cell_type": "markdown",
     "metadata": {},
     "source": [
      "1. (1 punkt) Napisz w Django widoki z nast\u0119puj\u0105cymi parametrami:\n",
      "    - data w formacie yyyy-mm-dd\n",
      "    - dat\u0119 w formacie yyyy-mm-dd i liczb\u0119 ca\u0142kowit\u0105\n",
      "    - dwie liczby ca\u0142kowite\n",
      "    - dwa dowolne napisy\n",
      "    - napis \"user\" i dowolny napis   \n",
      "Widoki powinny wy\u015bwietla\u0107 swoje parametry.\n",
      "2. (1 punkt) Napisz wyra\u017cenie regularne dopasowuj\u0105ce ka\u017cdy ostatni parametr (z warto\u015bci\u0105) w tagu XML'owym, z wyj\u0105tkiem parametru src.\n"
     ]
    }
   ],
   "metadata": {}
  }
 ]
}