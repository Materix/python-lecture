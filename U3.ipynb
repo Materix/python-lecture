{
 "metadata": {
  "name": ""
 },
 "nbformat": 3,
 "nbformat_minor": 0,
 "worksheets": [
  {
   "cells": [
    {
     "cell_type": "heading",
     "level": 1,
     "metadata": {},
     "source": [
      "J\u0119zyk Python - Laboratorium 3."
     ]
    },
    {
     "cell_type": "heading",
     "level": 2,
     "metadata": {},
     "source": [
      "Przypomnienie z wyk\u0142ad\u00f3w"
     ]
    },
    {
     "cell_type": "markdown",
     "metadata": {},
     "source": [
      "    __call__ - obiekt staje si\u0119 funktorem - mo\u017cna go wywo\u0142a\u0107 jak funkcj\u0119"
     ]
    },
    {
     "cell_type": "code",
     "collapsed": false,
     "input": [
      "class entryExit(object):\n",
      "    \n",
      "    def __init__(self, f):\n",
      "        self.f = f\n",
      "        self.n = 0\n",
      "    \n",
      "    def __call__(self):\n",
      "        self.n += 1\n",
      "        print \"Entering\", self.f.__name__, self.n, \"time\" + (\"s\" if self.n > 1 else \"\")\n",
      "        self.f()\n",
      "        print \"Exited\", self.f.__name__\n",
      "\n",
      "        \n",
      "@entryExit\n",
      "def func1():\n",
      "    print \"inside func1()\"\n"
     ],
     "language": "python",
     "metadata": {},
     "outputs": [],
     "prompt_number": 1
    },
    {
     "cell_type": "code",
     "collapsed": false,
     "input": [
      "func1()"
     ],
     "language": "python",
     "metadata": {},
     "outputs": [
      {
       "output_type": "stream",
       "stream": "stdout",
       "text": [
        "Entering func1 4 times\n",
        "inside func1()\n",
        "Exited func1\n"
       ]
      }
     ],
     "prompt_number": 5
    },
    {
     "cell_type": "heading",
     "level": 2,
     "metadata": {},
     "source": [
      "Epsilon maszynowy"
     ]
    },
    {
     "cell_type": "code",
     "collapsed": false,
     "input": [
      "import sys\n",
      "sys.float_info.epsilon"
     ],
     "language": "python",
     "metadata": {},
     "outputs": [
      {
       "metadata": {},
       "output_type": "pyout",
       "prompt_number": 2,
       "text": [
        "2.220446049250313e-16"
       ]
      }
     ],
     "prompt_number": 2
    },
    {
     "cell_type": "heading",
     "level": 2,
     "metadata": {},
     "source": [
      "Zadania do wykonania"
     ]
    },
    {
     "cell_type": "markdown",
     "metadata": {},
     "source": [
      "1. (1 punkt) Oblicz \u015bredni\u0105 wszystkich element\u00f3w w kolekcji u\u017cywaj\u0105c funktora i dok\u0142adnie jednego wywo\u0142ania funkcji reduce, bez sprawdzania d\u0142ugo\u015bci listy.\n",
      "2. (1 punkt) Napisz dekorator, kt\u00f3ry zwraca pochodn\u0105 funkcji w punkcie, wg. wzoru f'(x) = [f(x+h) - f(x)]/h, gdzie h jest parametrem dekoratora, je\u015bli nie zostanie podany, nale\u017cy przyj\u0105\u0107 epsilon maszynowy.\n"
     ]
    },
    {
     "cell_type": "markdown",
     "metadata": {},
     "source": [
      "    @derivate(0.001)\n",
      "    def f(x):\n",
      "        return x*x"
     ]
    }
   ],
   "metadata": {}
  }
 ]
}