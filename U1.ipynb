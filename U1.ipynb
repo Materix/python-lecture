{
 "metadata": {
  "name": ""
 },
 "nbformat": 3,
 "nbformat_minor": 0,
 "worksheets": [
  {
   "cells": [
    {
     "cell_type": "heading",
     "level": 1,
     "metadata": {},
     "source": [
      "J\u0119zyk Python - Laboratorium 1."
     ]
    },
    {
     "cell_type": "heading",
     "level": 2,
     "metadata": {},
     "source": [
      "Warunki zaliczenia zaj\u0119\u0107"
     ]
    },
    {
     "cell_type": "markdown",
     "metadata": {},
     "source": [
      "- 7 laboratori\u00f3w - z ka\u017cdego max. 2 punkty, \u0142\u0105cznie 14 punkt\u00f3w\n",
      "- Klasyfikacja:\n",
      "   - 14-13 punkt\u00f3w - 5.0\n",
      "   - 12 punkt\u00f3w - 4.5\n",
      "   - 11 punkt\u00f3w - 4.0\n",
      "   - 10 punkt\u00f3w - 3.5\n",
      "   - 8-9 punkt\u00f3w - 3.0\n",
      "- Nale\u017cy odda\u0107 zadania na bie\u017c\u0105cym laboratorium, albo maksymalnie na nast\u0119pnych (swoich) zaj\u0119ciach\n",
      "- Oddanie w dowolnym innym terminie ni\u017c wyznaczono powy\u017cej oznaczane jest jako \u201cpoprawa\u201d\n",
      "- Mo\u017cna mie\u0107 maksymalnie 2 poprawy w ci\u0105gu semestru\n"
     ]
    },
    {
     "cell_type": "heading",
     "level": 2,
     "metadata": {},
     "source": [
      "$PYTHONPATH"
     ]
    },
    {
     "cell_type": "markdown",
     "metadata": {},
     "source": [
      "- Zmienna \u015brodowiskowa\n",
      "- Zawiera domy\u015blne \u015bcie\u017cki na kt\u00f3rych nale\u017cy szuka\u0107 modu\u0142\u00f3w pythona\n",
      "- Typowe u\u017cycia:"
     ]
    },
    {
     "cell_type": "raw",
     "metadata": {},
     "source": [
      "$ export PYTHONPATH=$PYTHONPATH:~/myproject/\n",
      "PYTHONPATH=$PYTHONPATH:~/myproject/pythonx.py"
     ]
    },
    {
     "cell_type": "markdown",
     "metadata": {},
     "source": [
      "- Dost\u0119p do \u015bcie\u017cki pythonpath w runtime:"
     ]
    },
    {
     "cell_type": "code",
     "collapsed": false,
     "input": [
      "import sys\n",
      "print sys.path\n",
      "sys.path.append('../myproject/')"
     ],
     "language": "python",
     "metadata": {},
     "outputs": [
      {
       "output_type": "stream",
       "stream": "stdout",
       "text": [
        "['', 'H:\\\\Anaconda\\\\python27.zip', 'H:\\\\Anaconda\\\\DLLs', 'H:\\\\Anaconda\\\\lib', 'H:\\\\Anaconda\\\\lib\\\\plat-win', 'H:\\\\Anaconda\\\\lib\\\\lib-tk', 'H:\\\\Anaconda', 'H:\\\\Anaconda\\\\lib\\\\site-packages', 'H:\\\\Anaconda\\\\lib\\\\site-packages\\\\PIL', 'H:\\\\Anaconda\\\\lib\\\\site-packages\\\\win32', 'H:\\\\Anaconda\\\\lib\\\\site-packages\\\\win32\\\\lib', 'H:\\\\Anaconda\\\\lib\\\\site-packages\\\\Pythonwin', 'H:\\\\Anaconda\\\\lib\\\\site-packages\\\\setuptools-0.6c11-py2.7.egg-info', 'H:\\\\Anaconda\\\\lib\\\\site-packages\\\\IPython\\\\extensions', '../myproject/', '../myproject/']\n"
       ]
      }
     ],
     "prompt_number": 3
    },
    {
     "cell_type": "heading",
     "level": 2,
     "metadata": {},
     "source": [
      "Modu\u0142y python"
     ]
    },
    {
     "cell_type": "markdown",
     "metadata": {},
     "source": [
      "- Modu\u0142 jest reprezentowany przez katalog importowalny za pomoc\u0105 nazwy tego katalogu\n",
      "- Nazwy modu\u0142\u00f3w s\u0105 zapisywane ma\u0142ymi literami, zwykle jeden wyraz\n",
      "- Katalog modu\u0142u musi zawiera\u0107 plik \\_\\_init\\_\\_.py, wtedy jest rozpoznawany jako modu\u0142 (plik mo\u017ce by\u0107 pusty)\n",
      "- Modu\u0142 mo\u017ce zawiera\u0107 podmodu\u0142 (podkatalog z plikiem \\_\\_init\\_\\_.py)"
     ]
    },
    {
     "cell_type": "heading",
     "level": 2,
     "metadata": {},
     "source": [
      "$PYTHONSTARTUP"
     ]
    },
    {
     "cell_type": "markdown",
     "metadata": {},
     "source": [
      "- Zmienna \u015brodowiskowa\n",
      "- \u015acie\u017cka do pliku z komendami j\u0119zyka python \n",
      "- Plik uruchamiany przy starcie interpretera\n",
      "- Mo\u017ce s\u0142u\u017cy\u0107 do zbudowania pliku \u201crc\u201d"
     ]
    },
    {
     "cell_type": "heading",
     "level": 2,
     "metadata": {},
     "source": [
      "PyPi - Python Package Index"
     ]
    },
    {
     "cell_type": "markdown",
     "metadata": {},
     "source": [
      "- https://pypi.python.org/pypi \n",
      "- Utrzymywana przez PSF centralne repozytorium pakiet\u00f3w do pythona (poza bibliotek\u0105 standardow\u0105)\n",
      "- Do budowy pakiet\u00f3w stosuje si\u0119 setuptools lub distutils (powiemy o tym wi\u0119cej na innych zaj\u0119ciach)\n",
      "- Systemu pakietowego u\u017cywamy za pomoc\u0105 program\u00f3w zarz\u0105dzania pakietami:\n",
      "   - easy_install \n",
      "   - pip (rekomendowane)\n",
      "- Pakiet pythona zawiera opr\u00f3cz kodu modu\u0142\u00f3w przede wszystkim plik setup.py\n",
      "- Instalowanie pakietu r\u0119cznie (ze \u017ar\u00f3de\u0142 paczki), w katalogu pakietu:\n",
      "   - \\$ python setup.py install"
     ]
    },
    {
     "cell_type": "heading",
     "level": 2,
     "metadata": {},
     "source": [
      "pip"
     ]
    },
    {
     "cell_type": "markdown",
     "metadata": {},
     "source": [
      "Instalacja pip"
     ]
    },
    {
     "cell_type": "markdown",
     "metadata": {},
     "source": [
      "- je\u015bli jest easy_install:\n",
      "   - \\$ easy_install pip\n",
      "- systemowo w debian/ubuntu:\n",
      "   - \\$ sudo apt-get install python-pip\n",
      "- Instalowanie pakiet\u00f3w za pomoc\u0105 pip\n",
      "   - \\$ pip install package, pip uninstall package\n",
      "   - \\$ pip install -U package\n",
      "   - \\$ pip install package>=1.3.0\n",
      "   - \\$ pip install -e ./path/to/package\n",
      "   - \\$ pip install -e git+http://server.com/package.git#egg=package_dev\n",
      "   - \\$ pip install -r requirements.pip\n",
      "- Listowanie pakiet\u00f3w:\n",
      "   - $ pip list\n",
      "- Zamra\u017canie \u015brodowiska, tworzy list\u0119 zale\u017cno\u015bci:\n",
      "   - \\$ pip freeze > requirements.pip\n",
      "- Aktualizacja pakiet\u00f3w\n",
      "   - \\$ pip install --upgrade packagename\n",
      "   - \\$ pip install --upgrade pip"
     ]
    },
    {
     "cell_type": "heading",
     "level": 2,
     "metadata": {},
     "source": [
      "virtualenv"
     ]
    },
    {
     "cell_type": "markdown",
     "metadata": {},
     "source": [
      "- Wspomaga u\u017cywanie pythona poprzez wirtualne \u015brodowiska \n",
      "- \u015arodowisko jest reprezentowane przez katalog z zainstalowanymi pakietami (konkretne wersje), podlinkowana konkretna wersja interpretera\n",
      "   - \\$ sudo pip install virtualenv\n",
      "- Utworzenie \u015brodowiska:\n",
      "   - \\$ virtualenv envname\n",
      "- Uruchomienie \u015brodowiska\n",
      "   - \\$ source envname/bin/activate\n",
      "- Po uruchomieniu \u015brodowiska mo\u017cemy sprawdzi\u0107 jakich polece\u0144 u\u017cywamy:\n",
      "   - \\$ which python\n",
      "   - \\$ which pip\n",
      "- Skrypty w virtualenvie powinni\u015bmy uruchamia\u0107 z shabangiem:\n",
      "   - \\#!/usr/bin/env python\n",
      "- Wy\u0142\u0105czenie \u015brodowiska (je\u015bli zachodzi potrzeba):\n",
      "   - \\$ deactivate"
     ]
    },
    {
     "cell_type": "heading",
     "level": 2,
     "metadata": {},
     "source": [
      "vitualenvwrapper"
     ]
    },
    {
     "cell_type": "markdown",
     "metadata": {},
     "source": [
      "- \\$ pip install virtualenvwrapper\n",
      "- W praktyce z virtualenva korzysta si\u0119 za pomoc\u0105 wrappera\n",
      "- Systematyzuje miejsce przechowywania katalog\u00f3w ze \u015brodowiskami wirtualnymi u\u017cytkownika\n",
      "   - ~/.virtualenvs/\n",
      "   - katalog mo\u017cna ustawi\u0107 w zmiennej $WORKON_HOME\n",
      "- Inicjalizacja (wymagana przy ka\u017cdym starcie shella):\n",
      "   - \\$ source /usr/local/bin/virtualenvwrapper.sh\n",
      "- Tworzenie virtualenva:\n",
      "   - \\$ mkvirtualenv nazwa\n",
      "- Aktywacja virtualenva\n",
      "   - \\$ workon nazwa\n",
      "- \\$ export VIRTUALENVWRAPPER_VIRTUALENV_ARGS = '--no-site-packages'\n"
     ]
    },
    {
     "cell_type": "heading",
     "level": 2,
     "metadata": {},
     "source": [
      "Zadania do wykonania"
     ]
    },
    {
     "cell_type": "markdown",
     "metadata": {},
     "source": [
      "1. Skonfiguruj virtualenv+wrapper\n",
      "1. (1 punkt) W trzech \u015brodowiskach zainstaluj django u\u017cywaj\u0105c:\n",
      "   - paczki ze \u017ar\u00f3d\u0142ami\n",
      "   - systemy pakietowego pypi\n",
      "   - wprost z repozytorium github https://github.com/django/django.git\n",
      "1. (1 punkt) Napisz kod w pythonie, kt\u00f3ry pomno\u017cy dwie macierze bez i z u\u017cyciem pakietu numpy."
     ]
    }
   ],
   "metadata": {}
  }
 ]
}