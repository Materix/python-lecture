{
 "metadata": {
  "name": ""
 },
 "nbformat": 3,
 "nbformat_minor": 0,
 "worksheets": [
  {
   "cells": [
    {
     "cell_type": "heading",
     "level": 1,
     "metadata": {},
     "source": [
      "J\u0119zyk Python - Laboratorium 2."
     ]
    },
    {
     "cell_type": "heading",
     "level": 2,
     "metadata": {},
     "source": [
      "GIL"
     ]
    },
    {
     "cell_type": "markdown",
     "metadata": {},
     "source": [
      "* Global Interpreter Lock\n",
      "* W\u0105tki Pythona s\u0105 prawdziwymi w\u0105tkami systemowymi (POSIX, Windows Threads) ...\n",
      "* ... ale GIL zapewnia, \u017ce tylko jeden w\u0105tek na raz jest interpretowany przez interpreter\n",
      "* Upraszcza to znacznie wewn\u0119trzn\u0105\u00a0architektur\u0119\u00a0Pythona...\n",
      "* ... ale wp\u0142ywa bardzo znacz\u0105co na wydajno\u015b\u0107 w scenariuszach wielow\u0105tkowych\n"
     ]
    },
    {
     "cell_type": "markdown",
     "metadata": {},
     "source": [
      "\n",
      "                       I/O              I/O   I/O    I/O\n",
      "    W\u0105tek 1   -------->|................|.....|----->|........\n",
      "    W\u0105tek 2   .........|--------------->|.....|......|........\n",
      "    W\u0105tek 3   .........|................|---->|......|------->\n",
      "    \n",
      "    Legenda:\n",
      "        |    GIL release/acquire\n",
      "       -->   dzia\u0142anie w\u0105tku \n"
     ]
    },
    {
     "cell_type": "markdown",
     "metadata": {},
     "source": [
      "* Dzia\u0142aj\u0105cy w\u0105tek trzyma GIL\n",
      "* GIL jest zwalniany na operacji I/O (read, write, send, recv, itp)\n",
      "* W\u0105tki CPU bound kt\u00f3re nigdy nie wykonuj\u0105 operacji I/O s\u0105 wyw\u0142aszczane z u\u017cyciem sprawdze\u0144 (check) w interwa\u0142ach czasu (ticks)"
     ]
    },
    {
     "cell_type": "markdown",
     "metadata": {},
     "source": [
      "    W\u0105tek CPU bound   ------->|------->|------->|\n",
      "    \n",
      "    Legenda:\n",
      "      |    check\n",
      "      "
     ]
    },
    {
     "cell_type": "heading",
     "level": 2,
     "metadata": {},
     "source": [
      "Modu\u0142y thread i threading"
     ]
    },
    {
     "cell_type": "markdown",
     "metadata": {},
     "source": [
      "* Modu\u0142 threading jest wysoko poziomowym modu\u0142em dla w\u0105tk\u00f3w w Pythonie zwykle zast\u0119puj\u0105cym modu\u0142 thread (niskopoziomowy) w praktycznym u\u017cyciu"
     ]
    },
    {
     "cell_type": "code",
     "collapsed": false,
     "input": [
      "import threading\n",
      "import time\n",
      "\n",
      "def f():\n",
      "    print \"Sleep start\"\n",
      "    time.sleep(2)\n",
      "    print \"Wake up\"\n",
      "t = threading.Thread(target=f)\n",
      "t.start()\n",
      "print t.name\n",
      "print t.is_alive()\n",
      "t.join()\n",
      "print t.is_alive()"
     ],
     "language": "python",
     "metadata": {},
     "outputs": []
    },
    {
     "cell_type": "heading",
     "level": 2,
     "metadata": {},
     "source": [
      "Modu\u0142 multiprocessing"
     ]
    },
    {
     "cell_type": "markdown",
     "metadata": {},
     "source": [
      "* Pozwala na u\u017cycie podobne do modu\u0142u threading, ale u\u017cywaj\u0105c pod spodem proces\u00f3w systemowych zamiast w\u0105tk\u00f3w\n",
      "* Omini\u0119cie GILa kosztem wi\u0119kszego kosztu prze\u0142\u0105czenia kontekstu\n",
      "* Pozwala jednak wykorzysta\u0107 w pe\u0142ni multi-core'owy procesor"
     ]
    },
    {
     "cell_type": "code",
     "collapsed": false,
     "input": [
      "from multiprocessing import Process\n",
      "import os\n",
      "\n",
      "def info(title):\n",
      "    print title\n",
      "    print 'module name:', __name__\n",
      "    if hasattr(os, 'getppid'):  # only available on Unix\n",
      "        print 'parent process:', os.getppid()\n",
      "    print 'process id:', os.getpid()\n",
      "\n",
      "def f(name):\n",
      "    info('function f')\n",
      "    print 'hello', name\n",
      "\n",
      "if __name__ == '__main__':\n",
      "    info('main line')\n",
      "    p = Process(target=f, args=('bob',))\n",
      "    p.start()\n",
      "    p.join()"
     ],
     "language": "python",
     "metadata": {},
     "outputs": []
    },
    {
     "cell_type": "code",
     "collapsed": false,
     "input": [
      "from multiprocessing import Pool\n",
      "\n",
      "def f(x):\n",
      "    return x*x\n",
      "\n",
      "if __name__ == '__main__':\n",
      "    pool = Pool(processes=4)              # start 4 worker processes\n",
      "    result = pool.apply_async(f, [10])    # evaluate \"f(10)\" asynchronously\n",
      "    print result.get(timeout=1)           # prints \"100\" unless your computer is *very* slow\n",
      "    print pool.map(f, range(10))          # prints \"[0, 1, 4,..., 81]\""
     ],
     "language": "python",
     "metadata": {},
     "outputs": []
    },
    {
     "cell_type": "heading",
     "level": 2,
     "metadata": {},
     "source": [
      "Zadania do wykonania"
     ]
    },
    {
     "cell_type": "markdown",
     "metadata": {},
     "source": [
      "1. (1 punkt) Napisz funkcj\u0119 Pythona do sp\u0142aszczania:\n",
      "  a. kolekcji (list, tupli) - elementy kolekcji mog\u0105 by\u0107 dowolnie zagnie\u017cdzone\n",
      "  b. s\u0142ownika - warto\u015bci s\u0142ownika mog\u0105\u00a0by\u0107 kolejnymi s\u0142ownikami\n",
      "2. Zapoznaj si\u0119 z modu\u0142ami threading i multiprocessing, za pomoc\u0105 przyk\u0142adowego programu zbadaj czas dzia\u0142ania funkcji fibonacci uruchomiony na oba sposoby\n",
      "3. (1 punkt) Napisz mechanizm reduce za pomoc\u0105 modu\u0142u multiprocessing rozproszony na wiele proces\u00f3w."
     ]
    },
    {
     "cell_type": "code",
     "collapsed": false,
     "input": [],
     "language": "python",
     "metadata": {},
     "outputs": []
    }
   ],
   "metadata": {}
  }
 ]
}