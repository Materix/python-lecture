{
 "metadata": {
  "name": ""
 },
 "nbformat": 3,
 "nbformat_minor": 0,
 "worksheets": [
  {
   "cells": [
    {
     "cell_type": "heading",
     "level": 1,
     "metadata": {},
     "source": [
      "J\u0119zyk Python - Wyk\u0142ad 5."
     ]
    },
    {
     "cell_type": "heading",
     "level": 2,
     "metadata": {},
     "source": [
      "Wyra\u017cenia regularne"
     ]
    },
    {
     "cell_type": "raw",
     "metadata": {},
     "source": [
      "Some people, when confronted with a problem, think \"I\n",
      "know, I'll use regular expressions.\" Now they have two\n",
      "problems.\n",
      "-- Jamie Zawinski, '<alt.religion.emacs>' (08/12/1997)\n"
     ]
    },
    {
     "cell_type": "code",
     "collapsed": false,
     "input": [
      "import re"
     ],
     "language": "python",
     "metadata": {},
     "outputs": []
    },
    {
     "cell_type": "markdown",
     "metadata": {},
     "source": [
      "<img width=800 src=\"files/L5_img/automata.png\">"
     ]
    },
    {
     "cell_type": "raw",
     "metadata": {
      "slideshow": {
       "slide_type": "notes"
      }
     },
     "source": [
      "\n",
      "\n",
      "\n"
     ]
    },
    {
     "cell_type": "markdown",
     "metadata": {},
     "source": [
      "<img width=300 src=\"files/L5_img/plus.png\">"
     ]
    },
    {
     "cell_type": "heading",
     "level": 2,
     "metadata": {},
     "source": [
      "Metaznaki"
     ]
    },
    {
     "cell_type": "raw",
     "metadata": {},
     "source": [
      " [ ... ] - zakres znak\u00f3w (\u201eklasa\u201d)\n",
      " ^ - operator dope\u0142nienia mnogo\u015bciowego\n",
      " . - dowolny znak ale nie koniec linii\n",
      " \\d \u2013 cyfry \u2013 odpowiada [0-9]\n",
      " \\D \u2013 nie-cyfry \u2013 odpowiada [^0-9]\n",
      " \\s \u2013 bia\u0142y znak \u2013 odpowiada [ \\t\\n\\r\\f\\v]\n",
      " \\S \u2013 nie-bia\u0142y znak \u2013 odpowiada [^ \\t\\n\\r\\f\\v].\n",
      " \\w \u2013 znak alfanumeryczny \u2013 odpowiada [a-zA-Z0-9_] \n",
      " \\W \u2013 znak niealfanumeryczny \u2013 odpowiada [^a-zA-Z0-9_] \n",
      "  | - \u201elub\u201d ab|bc\n",
      "  ^ - oznaczenie pocz\u0105tku linii ^From: \n",
      "  $ - oznaczenie ko\u0144ca linii End.$\n",
      " \\A \u2013 pocz\u0105tek\n",
      " \\Z \u2013 koniec\n",
      " \\b \u2013 granica s\u0142owa (! - uwaga na backspace -> w \u015brodku [] jest to backspace )\n",
      " \\B - negacja \\b\n",
      "  * - powielenie 0 lub wi\u0119cej razy (\u201egwiazdka Kleene'a\u201d)\n",
      "{min,max} - dopuszczalna ilo\u015b\u0107 wyst\u0105pie\u0144\n",
      "  + - \u201ePlus Kleene'a\u201d - 1 lub wi\u0119cej\n",
      "  ? - 0 lub 1 razy"
     ]
    },
    {
     "cell_type": "heading",
     "level": 2,
     "metadata": {},
     "source": [
      "U\u017cycie"
     ]
    },
    {
     "cell_type": "code",
     "collapsed": false,
     "input": [
      "p = re.compile('ab|bc')\n",
      "print p"
     ],
     "language": "python",
     "metadata": {},
     "outputs": []
    },
    {
     "cell_type": "code",
     "collapsed": false,
     "input": [
      "print p.match('bc')"
     ],
     "language": "python",
     "metadata": {},
     "outputs": []
    },
    {
     "cell_type": "code",
     "collapsed": false,
     "input": [
      "print p.match('ba')"
     ],
     "language": "python",
     "metadata": {},
     "outputs": []
    },
    {
     "cell_type": "code",
     "collapsed": false,
     "input": [
      "re.search('b','abc')"
     ],
     "language": "python",
     "metadata": {},
     "outputs": []
    },
    {
     "cell_type": "code",
     "collapsed": false,
     "input": [
      "re.match('b','abc')"
     ],
     "language": "python",
     "metadata": {},
     "outputs": []
    },
    {
     "cell_type": "code",
     "collapsed": false,
     "input": [
      "re.match('a','abc')"
     ],
     "language": "python",
     "metadata": {},
     "outputs": []
    },
    {
     "cell_type": "code",
     "collapsed": false,
     "input": [
      "re.split(r'\\W+', 'Words, words, words.')"
     ],
     "language": "python",
     "metadata": {},
     "outputs": []
    },
    {
     "cell_type": "code",
     "collapsed": false,
     "input": [
      "re.split(r'(\\W+)', 'Words, words, words.')"
     ],
     "language": "python",
     "metadata": {},
     "outputs": []
    },
    {
     "cell_type": "code",
     "collapsed": false,
     "input": [
      "p = re.compile('(ab)*')\n",
      "p.match('ababababab').span()"
     ],
     "language": "python",
     "metadata": {},
     "outputs": []
    },
    {
     "cell_type": "code",
     "collapsed": false,
     "input": [
      "p = re.compile('a/{,3}b')\n",
      "print p.match('ab')\n",
      "print p.match('a/b')\n",
      "print p.match('a//b')\n",
      "print p.match('a///b')\n",
      "print p.match('a////b')"
     ],
     "language": "python",
     "metadata": {},
     "outputs": []
    },
    {
     "cell_type": "code",
     "collapsed": false,
     "input": [
      "print re.search(r'\\bfoo\\b','bar foo baz').group()"
     ],
     "language": "python",
     "metadata": {},
     "outputs": []
    },
    {
     "cell_type": "code",
     "collapsed": false,
     "input": [
      "print re.findall(r'[0-9]','a1b2c3d4e5')"
     ],
     "language": "python",
     "metadata": {},
     "outputs": []
    },
    {
     "cell_type": "code",
     "collapsed": false,
     "input": [
      "for m in re.finditer(r'[0-9]','a1b2c3d4e5'):\n",
      "    print m.group(0),m.span()"
     ],
     "language": "python",
     "metadata": {},
     "outputs": []
    },
    {
     "cell_type": "heading",
     "level": 2,
     "metadata": {},
     "source": [
      "Notacja \u201eraw string\u201d"
     ]
    },
    {
     "cell_type": "raw",
     "metadata": {},
     "source": [
      "Cel: \\section\n",
      "Wyra\u017cenie: \\\\section\n",
      "Sta\u0142a \u0142a\u0144cuchowa: \\\\\\\\section"
     ]
    },
    {
     "cell_type": "code",
     "collapsed": false,
     "input": [
      "re.match(r\"\\W(.)\\1\\W\", \" ff \").group()"
     ],
     "language": "python",
     "metadata": {},
     "outputs": []
    },
    {
     "cell_type": "code",
     "collapsed": false,
     "input": [
      "re.match(\"\\\\W(.)\\\\1\\\\W\", \" ff \").group()"
     ],
     "language": "python",
     "metadata": {},
     "outputs": []
    },
    {
     "cell_type": "heading",
     "level": 2,
     "metadata": {},
     "source": [
      "Niezach\u0142anne dopasowania"
     ]
    },
    {
     "cell_type": "raw",
     "metadata": {},
     "source": [
      "- *?\n",
      "- +?\n",
      "- ??\n",
      "- {m,n}?"
     ]
    },
    {
     "cell_type": "code",
     "collapsed": false,
     "input": [
      "s = '<html><head><title>Title</title>'"
     ],
     "language": "python",
     "metadata": {},
     "outputs": []
    },
    {
     "cell_type": "code",
     "collapsed": false,
     "input": [
      "print re.match('<.*>', s).group()"
     ],
     "language": "python",
     "metadata": {},
     "outputs": []
    },
    {
     "cell_type": "code",
     "collapsed": false,
     "input": [
      "print re.match('<.*?>', s).group()"
     ],
     "language": "python",
     "metadata": {},
     "outputs": []
    },
    {
     "cell_type": "heading",
     "level": 2,
     "metadata": {},
     "source": [
      "Grupowanie"
     ]
    },
    {
     "cell_type": "code",
     "collapsed": false,
     "input": [
      "p = re.compile('(a(b)c)d')\n",
      "m = p.match('abcd')"
     ],
     "language": "python",
     "metadata": {},
     "outputs": []
    },
    {
     "cell_type": "markdown",
     "metadata": {},
     "source": [
      "<img width=800 src=\"plus.png\">"
     ]
    },
    {
     "cell_type": "code",
     "collapsed": false,
     "input": [
      "m.group(0)"
     ],
     "language": "python",
     "metadata": {},
     "outputs": []
    },
    {
     "cell_type": "code",
     "collapsed": false,
     "input": [
      "m.group(1)"
     ],
     "language": "python",
     "metadata": {},
     "outputs": []
    },
    {
     "cell_type": "code",
     "collapsed": false,
     "input": [
      "m.group(2)"
     ],
     "language": "python",
     "metadata": {},
     "outputs": []
    },
    {
     "cell_type": "code",
     "collapsed": false,
     "input": [
      "#Match dates formatted like MM/DD/YYYY, MM-DD-YY,...\n",
      "import re\n",
      "\n",
      "date = '01/12/2013'\n",
      "\n",
      "regex = re.compile(r'^(?P<day>\\d\\d)[-/](?P<month>\\d\\d)[-/](?P<year>\\d\\d(?:\\d\\d)?)$')\n",
      "\n",
      "match = regex.match(date)"
     ],
     "language": "python",
     "metadata": {},
     "outputs": []
    },
    {
     "cell_type": "code",
     "collapsed": false,
     "input": [
      "print match.group(0),match.group(1),match.group(2),match.group(3)"
     ],
     "language": "python",
     "metadata": {},
     "outputs": []
    },
    {
     "cell_type": "code",
     "collapsed": false,
     "input": [
      "print match.group('day'),match.group('month'),match.group('year')"
     ],
     "language": "python",
     "metadata": {},
     "outputs": []
    },
    {
     "cell_type": "code",
     "collapsed": false,
     "input": [
      "print match.groups()"
     ],
     "language": "python",
     "metadata": {},
     "outputs": []
    },
    {
     "cell_type": "code",
     "collapsed": false,
     "input": [
      "print regex.groupindex"
     ],
     "language": "python",
     "metadata": {},
     "outputs": []
    },
    {
     "cell_type": "raw",
     "metadata": {},
     "source": [
      "from django.conf.urls import patterns, url\n",
      "\n",
      "urlpatterns = patterns('',\n",
      "    url(r'^articles/2003/$', 'news.views.special_case_2003'),\n",
      "    url(r'^articles/(?P<year>\\d{4})/$', 'news.views.year_archive'),\n",
      "    url(r'^articles/(?P<year>\\d{4})/(?P<month>\\d{2})/$', 'news.views.month_archive'),\n",
      "    url(r'^articles/(?P<year>\\d{4})/(?P<month>\\d{2})/(?P<day>\\d{2})/$', 'news.views.article_detail'),\n",
      ")"
     ]
    },
    {
     "cell_type": "code",
     "collapsed": false,
     "input": [
      "re.match(r'(ala) \\1','ala ala').group(0)"
     ],
     "language": "python",
     "metadata": {},
     "outputs": []
    },
    {
     "cell_type": "heading",
     "level": 2,
     "metadata": {},
     "source": [
      "Extension Notation (?...)"
     ]
    },
    {
     "cell_type": "raw",
     "metadata": {},
     "source": [
      "Nazwana grupa (?P<name>...)\n",
      "Powielenie (?P=)\n",
      "Nieprzechwytuj\u0105ca grupa (?:foo)\n",
      "Positive Lookahead (?=...)\n",
      "Negative Lookahead (?!...)\n",
      "Positive look behind (?<=regex)\n",
      "Negative look behind (?<!regex)\n",
      "Warunkowe wyra\u017cenie (?(id/name)yes-pattern|no-pattern)"
     ]
    },
    {
     "cell_type": "heading",
     "level": 3,
     "metadata": {},
     "source": [
      "Powielenie (?P=<name>)"
     ]
    },
    {
     "cell_type": "code",
     "collapsed": false,
     "input": [
      "p = re.compile(r'(?P<word>\\b\\w+)\\s+(?P=word)')"
     ],
     "language": "python",
     "metadata": {},
     "outputs": []
    },
    {
     "cell_type": "code",
     "collapsed": false,
     "input": [
      "p.match('ala ala').group()"
     ],
     "language": "python",
     "metadata": {},
     "outputs": []
    },
    {
     "cell_type": "code",
     "collapsed": false,
     "input": [
      "p = re.compile(r'(?P<word>\\b\\w+)\\s+\\1')"
     ],
     "language": "python",
     "metadata": {},
     "outputs": []
    },
    {
     "cell_type": "code",
     "collapsed": false,
     "input": [
      "p.match('ala ala').group()"
     ],
     "language": "python",
     "metadata": {},
     "outputs": []
    },
    {
     "cell_type": "heading",
     "level": 3,
     "metadata": {},
     "source": [
      "Nieprzechwytuj\u0105ca grupa (?:foo)"
     ]
    },
    {
     "cell_type": "code",
     "collapsed": false,
     "input": [
      "re.match(r'(\\w+@\\w+(?:.\\w+)+)','korzycki@agh.edu.pl').groups()"
     ],
     "language": "python",
     "metadata": {},
     "outputs": []
    },
    {
     "cell_type": "heading",
     "level": 3,
     "metadata": {},
     "source": [
      "Positive Lookahead (?=...)"
     ]
    },
    {
     "cell_type": "code",
     "collapsed": false,
     "input": [
      "re.match(r'(\\w+(?=@\\w+(?:.\\w+)+))','korzycki@agh.edu.pl').group()"
     ],
     "language": "python",
     "metadata": {},
     "outputs": []
    },
    {
     "cell_type": "heading",
     "level": 3,
     "metadata": {},
     "source": [
      "Negative Lookahead (?!...)"
     ]
    },
    {
     "cell_type": "code",
     "collapsed": false,
     "input": [
      "s='plik.py'\n",
      "re.match(r'(.*)[.](?!bat$|exe$).*$',s).group(1)"
     ],
     "language": "python",
     "metadata": {},
     "outputs": []
    },
    {
     "cell_type": "heading",
     "level": 3,
     "metadata": {},
     "source": [
      "Positive Lookbehind"
     ]
    },
    {
     "cell_type": "code",
     "collapsed": false,
     "input": [
      "s='From: korzycki@agh.edu.pl'\n",
      "re.search(r'(?<=From: )(.*)',s).group()"
     ],
     "language": "python",
     "metadata": {},
     "outputs": []
    },
    {
     "cell_type": "heading",
     "level": 3,
     "metadata": {},
     "source": [
      "Negative Lookbehind "
     ]
    },
    {
     "cell_type": "code",
     "collapsed": false,
     "input": [
      "s='From: korzycki@agh.edu.pl'\n",
      "re.search(r'(?<!^Subject)(?<=: )(.*)',s).group()"
     ],
     "language": "python",
     "metadata": {},
     "outputs": []
    },
    {
     "cell_type": "heading",
     "level": 3,
     "metadata": {},
     "source": [
      "Warunkowe wyra\u017cenie (?(id/name)yes-pattern|no-pattern)"
     ]
    },
    {
     "cell_type": "code",
     "collapsed": false,
     "input": [
      "import re\n",
      "p = re.compile('(<)?(\\w+@\\w+(?:\\.\\w+)+)(?(1)>)')"
     ],
     "language": "python",
     "metadata": {},
     "outputs": []
    },
    {
     "cell_type": "code",
     "collapsed": false,
     "input": [
      "p.match('<user@host.com>').group()"
     ],
     "language": "python",
     "metadata": {},
     "outputs": []
    },
    {
     "cell_type": "code",
     "collapsed": false,
     "input": [
      "p.match('user@host.com').group()"
     ],
     "language": "python",
     "metadata": {},
     "outputs": []
    },
    {
     "cell_type": "code",
     "collapsed": false,
     "input": [
      "print p.match('<user@host.com')"
     ],
     "language": "python",
     "metadata": {},
     "outputs": []
    },
    {
     "cell_type": "heading",
     "level": 2,
     "metadata": {},
     "source": [
      "Flagi"
     ]
    },
    {
     "cell_type": "raw",
     "metadata": {},
     "source": [
      "re.compile( regex, flags)\n",
      "DOTALL , S\n",
      " re.compile(\u201e.*\u201d, re.S)\n",
      "IGNORECASE, I\n",
      "LOCALE, L\n",
      "MULTILINE, M\n",
      "VERBOSE, X\n",
      "\n",
      "re.compile( \u201ea*\u201d, re.I | re.M )\n",
      "re.compile(\u201e(?xm)a*\u201d)\n"
     ]
    },
    {
     "cell_type": "heading",
     "level": 3,
     "metadata": {},
     "source": [
      "re.VERBOSE"
     ]
    },
    {
     "cell_type": "code",
     "collapsed": false,
     "input": [
      "pat = re.compile(r\"\\s*(?P<header>[^:]+)\\s*:(?P<value>.*?)\\s*$\")"
     ],
     "language": "python",
     "metadata": {},
     "outputs": []
    },
    {
     "cell_type": "code",
     "collapsed": false,
     "input": [
      "pat.match('From: korzycki@agh.edu.pl').groups()"
     ],
     "language": "python",
     "metadata": {},
     "outputs": []
    },
    {
     "cell_type": "code",
     "collapsed": false,
     "input": [
      "pat = re.compile(r\"\"\"\n",
      "    \\s*               # Skip leading whitespace\n",
      "    (?P<header>[^:]+) # Header name\n",
      "    \\s* :             # Whitespace, and a colon\n",
      "    (?P<value>.*?)    # The header's value -- *? used to\n",
      "                      # lose the following trailing whitespace\n",
      "    \\s*$\n",
      "\"\"\", re.VERBOSE)\n"
     ],
     "language": "python",
     "metadata": {},
     "outputs": []
    },
    {
     "cell_type": "code",
     "collapsed": false,
     "input": [
      "pat.match('From: korzycki@agh.edu.pl').groups()"
     ],
     "language": "python",
     "metadata": {},
     "outputs": []
    },
    {
     "cell_type": "heading",
     "level": 3,
     "metadata": {},
     "source": [
      "re.IGNORECASE"
     ]
    },
    {
     "cell_type": "code",
     "collapsed": false,
     "input": [
      "re.match(r'(?i)ala','Ala').group()"
     ],
     "language": "python",
     "metadata": {},
     "outputs": []
    },
    {
     "cell_type": "heading",
     "level": 3,
     "metadata": {},
     "source": [
      "re.MULTILINE re.DOTALL"
     ]
    },
    {
     "cell_type": "code",
     "collapsed": false,
     "input": [
      "s=\"\"\"Ala ma\n",
      "kota\"\"\"\n",
      "\n",
      "print re.match(r'^A.*ta$',s)\n",
      "print re.match(r'(?ms)^A.*ta$',s)"
     ],
     "language": "python",
     "metadata": {},
     "outputs": []
    },
    {
     "cell_type": "raw",
     "metadata": {},
     "source": [
      ">>> p = re.compile('.*', re.DEBUG)\n",
      "max_repeat 0 65535\n",
      "  any None\n",
      "\n",
      "\n",
      ">>> p = re.compile('(<)?(\\w+@\\w+(?:\\.\\w+)+)(?(1)>)',re.DEBUG \n",
      "max_repeat 0 1\n",
      "  subpattern 1\n",
      "    literal 60\n",
      "subpattern 2\n",
      "  max_repeat 1 65535\n",
      "    in\n",
      "      category category_word\n",
      "  literal 64\n",
      "  max_repeat 1 65535\n",
      "    in\n",
      "      category category_word\n",
      "  max_repeat 1 65535\n",
      "    subpattern None\n",
      "      literal 46\n",
      "      max_repeat 1 65535\n",
      "        in\n",
      "          category category_word\n",
      "subpattern None\n",
      "  groupref_exists 1\n",
      "    literal 62\n",
      "None\n"
     ]
    },
    {
     "cell_type": "heading",
     "level": 2,
     "metadata": {},
     "source": [
      "Podstawienie"
     ]
    },
    {
     "cell_type": "raw",
     "metadata": {},
     "source": [
      "re.sub(pattern, repl, string)\n",
      "regex.sub(repl,string)"
     ]
    },
    {
     "cell_type": "code",
     "collapsed": false,
     "input": [
      "#urlify - turn URLs into HTML links\n",
      "import re\n",
      "\n",
      "text = 'Check the web site, http://www.oreilly.com/catalog/regexppr.'\n",
      "\n",
      "pattern = r'''\n",
      "    \\b# start at word boundary\n",
      "    (# capture to \\1\n",
      "    (https?|telnet|gopher|file|wais|ftp) :# resource and colon\n",
      "    [\\w/#~:.?+=&%@!\\-] +?# one or more valid chars\n",
      "                         # take little as possible\n",
      "    )\n",
      "    (?=# lookahead\n",
      "    [.:?\\-] * # for possible punc\n",
      "    (?: [^\\w/#~:.?+=&%@!\\-] # invalid character\n",
      "    | $ ) # or end of string\n",
      "    )'''\n",
      "\n",
      "regex = re.compile(pattern,re.IGNORECASE + re.VERBOSE)\n",
      "result = regex.sub(r'<a href=\"\\1\">\\1</a>', text)\n",
      "\n",
      "print result"
     ],
     "language": "python",
     "metadata": {},
     "outputs": []
    },
    {
     "cell_type": "heading",
     "level": 3,
     "metadata": {},
     "source": [
      "Podstawienie funkcj\u0105"
     ]
    },
    {
     "cell_type": "code",
     "collapsed": false,
     "input": [
      "import random\n",
      "def repl(m):\n",
      "    inner_word = list(m.group(2))\n",
      "    random.shuffle(inner_word)\n",
      "    return m.group(1) + \"\".join(inner_word) + m.group(3)\n"
     ],
     "language": "python",
     "metadata": {},
     "outputs": []
    },
    {
     "cell_type": "code",
     "collapsed": false,
     "input": [
      "text = \"Professor Abdolmalek, please report your absences promptly.\"\n",
      "re.sub(\"(\\w)(\\w+)(\\w)\", repl, text)"
     ],
     "language": "python",
     "metadata": {},
     "outputs": []
    },
    {
     "cell_type": "code",
     "collapsed": false,
     "input": [
      "indent = lambda s: reduce(min,map(len,re.findall('(?m)^ *(?=\\S)',s)))\n",
      "flush_left = lambda s: re.sub('(?m)^ {%d}' % indent(s),'',s)"
     ],
     "language": "python",
     "metadata": {},
     "outputs": []
    },
    {
     "cell_type": "code",
     "collapsed": false,
     "input": [
      "s=\"\"\"    \n",
      "    Bardzo\n",
      "       roznie\n",
      "     wciety\n",
      "    tekst \n",
      "\"\"\"\n",
      "print s\n",
      "print\n",
      "print flush_left(s)"
     ],
     "language": "python",
     "metadata": {},
     "outputs": []
    }
   ],
   "metadata": {}
  }
 ]
}