{
 "metadata": {
  "name": ""
 },
 "nbformat": 3,
 "nbformat_minor": 0,
 "worksheets": [
  {
   "cells": [
    {
     "cell_type": "heading",
     "level": 1,
     "metadata": {},
     "source": [
      "J\u0119zyk Python - Wyk\u0142ad 6."
     ]
    },
    {
     "cell_type": "heading",
     "level": 2,
     "metadata": {},
     "source": [
      "I/O encoding"
     ]
    },
    {
     "cell_type": "markdown",
     "metadata": {},
     "source": [
      "    $ cat u.py\n",
      "    # coding: utf-8\n",
      "    print u\"\u017c\u00f3\u0142w\""
     ]
    },
    {
     "cell_type": "markdown",
     "metadata": {},
     "source": [
      "    $ python u.py\n",
      "    \u017c\u00f3\u0142w"
     ]
    },
    {
     "cell_type": "markdown",
     "metadata": {},
     "source": [
      "    $ python u.py > u.txt\n",
      "    Traceback (most recent call last):\n",
      "      File \"u.py\", line 2, in <module>\n",
      "        print u\"\u017c\u00f3\u0142w\"\n",
      "    UnicodeEncodeError: 'ascii' codec can't encode characters in position 0-2: ordinal not in range(128)"
     ]
    },
    {
     "cell_type": "markdown",
     "metadata": {},
     "source": [
      "    $ cat u.py\n",
      "    # coding: utf-8\n",
      "    print u\"\u017c\u00f3\u0142w\".encode('utf-8')\n",
      "    \n",
      "    $ python u.py > u.txt\n",
      "    $ cat u.txt\n",
      "    \u017c\u00f3\u0142w"
     ]
    },
    {
     "cell_type": "code",
     "collapsed": false,
     "input": [
      "print u\"\u017c\u00f3\u0142w\""
     ],
     "language": "python",
     "metadata": {},
     "outputs": []
    },
    {
     "cell_type": "code",
     "collapsed": false,
     "input": [
      "import sys\n",
      "print sys.getdefaultencoding()"
     ],
     "language": "python",
     "metadata": {},
     "outputs": []
    },
    {
     "cell_type": "code",
     "collapsed": false,
     "input": [
      "sys.setdefaultencoding('utf-8')  # site.py nadpisuje modu\u0142 sys i zakrywa setdefaultencoding"
     ],
     "language": "python",
     "metadata": {},
     "outputs": []
    },
    {
     "cell_type": "code",
     "collapsed": false,
     "input": [
      "reload(sys)  # reload powoduje ponowne za\u0142adowanie modu\u0142u sys, site.py go nie nadpisuje (warning: it's a hack!)\n",
      "sys.setdefaultencoding('utf-8')  # dzia\u0142a"
     ],
     "language": "python",
     "metadata": {},
     "outputs": []
    },
    {
     "cell_type": "heading",
     "level": 2,
     "metadata": {},
     "source": [
      "codecs"
     ]
    },
    {
     "cell_type": "code",
     "collapsed": false,
     "input": [
      "import codecs\n",
      "\n",
      "with codecs.open('/tmp/L6', mode='w', encoding='iso-8859-2') as f:\n",
      "    f.write(u'\u017c\u00f3\u0142w')\n",
      "    \n",
      "with codecs.open('/tmp/L6', encoding='iso-8859-2') as f:\n",
      "    string = f.readline()\n",
      "    print string, repr(string)"
     ],
     "language": "python",
     "metadata": {},
     "outputs": []
    },
    {
     "cell_type": "heading",
     "level": 2,
     "metadata": {},
     "source": [
      "Chevron print"
     ]
    },
    {
     "cell_type": "code",
     "collapsed": false,
     "input": [
      "import sys\n",
      "\n",
      "print >> sys.stderr, 'Error!'\n",
      "print >> sys.stdout, 'Not an error'\n",
      "print >> sys.stderr, 'Error!'"
     ],
     "language": "python",
     "metadata": {},
     "outputs": []
    },
    {
     "cell_type": "heading",
     "level": 2,
     "metadata": {},
     "source": [
      "Docstring"
     ]
    },
    {
     "cell_type": "markdown",
     "metadata": {},
     "source": [
      "* PEP 257"
     ]
    },
    {
     "cell_type": "code",
     "collapsed": false,
     "input": [
      "class Foo:\n",
      "    \"\"\"Represents a Foo\"\"\"\n",
      "    pass"
     ],
     "language": "python",
     "metadata": {},
     "outputs": []
    },
    {
     "cell_type": "code",
     "collapsed": false,
     "input": [
      "Foo.__doc__"
     ],
     "language": "python",
     "metadata": {},
     "outputs": []
    },
    {
     "cell_type": "code",
     "collapsed": false,
     "input": [
      "def foo_function(arg):\n",
      "    \"\"\"Does foo and returns False\"\"\"\n",
      "    return False"
     ],
     "language": "python",
     "metadata": {},
     "outputs": []
    },
    {
     "cell_type": "code",
     "collapsed": false,
     "input": [
      "foo_function.__doc__"
     ],
     "language": "python",
     "metadata": {},
     "outputs": []
    },
    {
     "cell_type": "code",
     "collapsed": false,
     "input": [
      "def foo_multiline_doc(arg):\n",
      "    \"\"\"\n",
      "    Does foo\n",
      "    and returns \n",
      "    False\n",
      "    \"\"\"\n",
      "    return False"
     ],
     "language": "python",
     "metadata": {},
     "outputs": []
    },
    {
     "cell_type": "markdown",
     "metadata": {},
     "source": [
      "Python *nie* wspiera docstring\u00f3w dla zmiennych i atrybut\u00f3w. "
     ]
    },
    {
     "cell_type": "code",
     "collapsed": false,
     "input": [
      "class A:\n",
      "    attribute = 3\n",
      "    \"\"\"Attribute docstring\"\"\"\n",
      "    \n",
      "print A.__doc__\n",
      "print A.attribute.__doc__"
     ],
     "language": "python",
     "metadata": {},
     "outputs": []
    },
    {
     "cell_type": "markdown",
     "metadata": {},
     "source": [
      "Jednak\u017ce niekt\u00f3re systemy dokumentowania kodu (np. sphinx, epydoc) potrafi\u0105 parsuj\u0105c kod \u017ar\u00f3d\u0142owy u\u017cy\u0107 tak skonstruowanych docstring\u00f3w (warning: it's a hack!)"
     ]
    },
    {
     "cell_type": "heading",
     "level": 2,
     "metadata": {},
     "source": [
      "doctest"
     ]
    },
    {
     "cell_type": "markdown",
     "metadata": {},
     "source": [
      "* Powsta\u0142o wiele narz\u0119dzi wykorzystuj\u0105cych docstringi do dziwnych rzeczy\n",
      "* doctest jest modu\u0142em pythona parsuj\u0105cym dostringi i wykonuj\u0105cym testy w nich zawarte"
     ]
    },
    {
     "cell_type": "code",
     "collapsed": false,
     "input": [
      "\"\"\"\n",
      "Doctest dla modu\u0142u testowego\n",
      "\n",
      "\n",
      ">>> sumuj(2,3)\n",
      "5\n",
      "\n",
      "OK to wszystko\n",
      "\"\"\"\n",
      "\n",
      "def sumuj(a, b):\n",
      "    \"\"\"\n",
      "    Zwraca sum\u0119 dw\u00f3ch liczb, np:\n",
      "    \n",
      "    >>> sumuj(1, 2)\n",
      "    3\n",
      "    \n",
      "    >>> sumuj(1, '2')\n",
      "    Traceback (most recent call last):\n",
      "    ...\n",
      "    TypeError: unsupported operand type(s) for +: 'int' and 'str'\n",
      "    \"\"\"\n",
      "    return a + b\n",
      "\n",
      "#if __name__ == \"__main__\":   # testujemy z iPython dlatego komentujemy t\u0105 lini\u0119\n",
      "import doctest\n",
      "doctest.testmod()"
     ],
     "language": "python",
     "metadata": {},
     "outputs": []
    },
    {
     "cell_type": "heading",
     "level": 2,
     "metadata": {},
     "source": [
      "assert"
     ]
    },
    {
     "cell_type": "code",
     "collapsed": false,
     "input": [],
     "language": "python",
     "metadata": {},
     "outputs": []
    }
   ],
   "metadata": {}
  }
 ]
}