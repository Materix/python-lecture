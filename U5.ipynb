{
 "metadata": {
  "name": ""
 },
 "nbformat": 3,
 "nbformat_minor": 0,
 "worksheets": [
  {
   "cells": [
    {
     "cell_type": "markdown",
     "metadata": {},
     "source": [
      "1. Napisa\u0107 solver do nast\u0119puj\u0105cego problemu:\n",
      "    1. Zadana jest plansza w pliku png. Kolorem zielonym rgb(0,210,0) oznaczono zwyk\u0142y teren, kolorem czerwonym rgb(210,0,0) pozycje wroga, kolorem \u017c\u00f3\u0142tym rgb(210,210,0) pozycje w\u0142asnej armii, kolorem br\u0105zowym rgb(210,105,0) fragmenty muru.\n",
      "    1. Dla uproszczenia jeden piksel na planszy oznacza jedno pole gry. \n",
      "    1. Problem polega na tym gdzie nale\u017cy spu\u015bci\u0107 bomb\u0119 o promieniu R pikseli, aby zmaksymalizowa\u0107\u00a0zysk takiego ataku.\n",
      "    1. Za ka\u017cdego zabitego wroga (piksel czerwony) dostajemy +1 punkt, za ka\u017cd\u0105 stracon\u0105 w\u0142asn\u0105 jednostk\u0119 (piksel \u017c\u00f3\u0142ty) -2 punkty. Dodatkowo je\u015bli na lini fali uderzeniowej pomi\u0119dzy epicentrum wybuchu a pikselem dowolnej jednostki stoi mur (piksel br\u0105zowy) to jednostka ta zupe\u0142nie unika obra\u017ce\u0144.\n",
      "    1. Solver uruchamiamy poleceniem:\n",
      "    \n",
      "        ```\n",
      "        $ python war.py -r 10 plansza.png\n",
      "        \n",
      "        Parametry:\n",
      "        -r  promien w pikselach  (obowizakowy)\n",
      "        -e  liczba punktow za zabicie przeciwnika (domy\u015blnie +1)\n",
      "        -o  liczba punktow za zabicie w\u0142asnej jednostki (domy\u015blnie -2)\n",
      "        \n",
      "        -f  nazwa pliku wynikowego (opcjonalnie)\n",
      "        ```\n",
      "        \n",
      "    1. Program na stdout ma wypisa\u0107\u00a0informacj\u0119 o ataku (minimum wpisa\u0107\u00a0liczb\u0119\u00a0punkt\u00f3w) oraz X,Y spuszczenia bomby\n",
      "    Dodatkowo je\u015bli podano je\u015bli podano opcj\u0119 -f nale\u017cy wygenerowa\u0107 plansz\u0119 z zaznaczonym okr\u0119giem i \u015brodkiem dzia\u0142ania bomby.\n",
      "    1. Nale\u017cy u\u017cy\u0107 bilbiotek argparse oraz PIL (pillow).\n",
      "    "
     ]
    },
    {
     "cell_type": "code",
     "collapsed": false,
     "input": [],
     "language": "python",
     "metadata": {},
     "outputs": []
    }
   ],
   "metadata": {}
  }
 ]
}