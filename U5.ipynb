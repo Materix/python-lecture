{
 "metadata": {
  "name": ""
 },
 "nbformat": 3,
 "nbformat_minor": 0,
 "worksheets": [
  {
   "cells": [
    {
     "cell_type": "heading",
     "level": 1,
     "metadata": {},
     "source": [
      "J\u0119zyk Python - Laboratorium 5."
     ]
    },
    {
     "cell_type": "heading",
     "level": 2,
     "metadata": {},
     "source": [
      "Modu\u0142 argparse"
     ]
    },
    {
     "cell_type": "markdown",
     "metadata": {},
     "source": [
      "- pobiera i analizuje argumenty wywo\u0142ania\n",
      "- zast\u0119puje przestarza\u0142y modu\u0142 optparse\n",
      "- alternatywa dla getopt oraz r\u0119cznego analizowania zmiennej sys.argv\n",
      "- zarz\u0105dza:\n",
      "    - parametrami pozycyjnymi\n",
      "    - parametrami opcjonalnymi (flagami) w wersji kr\u00f3tkiej i d\u0142ugiej\n",
      "    - tekstem pomocy informuj\u0105cym o prawid\u0142owym u\u017cyciu (w reakcji na opcj\u0119 -h/--help)\n",
      "    - komunikatem o b\u0142\u0119dnym wywo\u0142aniu"
     ]
    },
    {
     "cell_type": "code",
     "collapsed": false,
     "input": [
      "import sys\n",
      "import argparse\n",
      "\n",
      "sys.argv = ['script.py','-h']\n",
      "parser = argparse.ArgumentParser()\n",
      "parser.add_argument(\"-h\",\"--help\",)\n",
      "parser.parse_args()"
     ],
     "language": "python",
     "metadata": {},
     "outputs": [
      {
       "ename": "SystemExit",
       "evalue": "0",
       "output_type": "pyerr",
       "traceback": [
        "An exception has occurred, use %tb to see the full traceback.\n",
        "\u001b[1;31mSystemExit\u001b[0m\u001b[1;31m:\u001b[0m 0\n"
       ]
      },
      {
       "output_type": "stream",
       "stream": "stdout",
       "text": [
        "usage: -h [-h]\n",
        "\n",
        "optional arguments:\n",
        "  -h, --help  show this help message and exit\n"
       ]
      },
      {
       "output_type": "stream",
       "stream": "stderr",
       "text": [
        "To exit: use 'exit', 'quit', or Ctrl-D.\n"
       ]
      }
     ],
     "prompt_number": 16
    },
    {
     "cell_type": "code",
     "collapsed": false,
     "input": [
      "import sys\n",
      "import argparse\n",
      "\n",
      "sys.argv = ['script.py','-c']\n",
      "parser = argparse.ArgumentParser()\n",
      "parser.parse_args()"
     ],
     "language": "python",
     "metadata": {},
     "outputs": [
      {
       "ename": "SystemExit",
       "evalue": "2",
       "output_type": "pyerr",
       "traceback": [
        "An exception has occurred, use %tb to see the full traceback.\n",
        "\u001b[1;31mSystemExit\u001b[0m\u001b[1;31m:\u001b[0m 2\n"
       ]
      },
      {
       "output_type": "stream",
       "stream": "stderr",
       "text": [
        "usage: script.py [-h]\n",
        "script.py: error: unrecognized arguments: -c\n",
        "To exit: use 'exit', 'quit', or Ctrl-D.\n"
       ]
      }
     ],
     "prompt_number": 17
    },
    {
     "cell_type": "markdown",
     "metadata": {},
     "source": [
      "- Argumenty pozycyjne s\u0105 rozr\u00f3\u017cniane na podstawie miejsca w linii komend, gdzie wyst\u0119puj\u0105\n",
      "- Dodajemy je wywo\u0142uj\u0105c komend\u0119 add_argument i przekazuj\u0105c jej nazw\u0119 argumentu"
     ]
    },
    {
     "cell_type": "code",
     "collapsed": false,
     "input": [
      "import sys\n",
      "import argparse\n",
      "\n",
      "sys.argv = ['script.py','file.txt']\n",
      "parser = argparse.ArgumentParser()\n",
      "parser.add_argument(\"input_file\")\n",
      "parser.parse_args()"
     ],
     "language": "python",
     "metadata": {},
     "outputs": [
      {
       "metadata": {},
       "output_type": "pyout",
       "prompt_number": 4,
       "text": [
        "Namespace(input_file='file.txt')"
       ]
      }
     ],
     "prompt_number": 4
    },
    {
     "cell_type": "code",
     "collapsed": false,
     "input": [
      "parser.add_argument(\"output_file\",nargs=\"+\")\n",
      "parser.parse_args()"
     ],
     "language": "python",
     "metadata": {},
     "outputs": [
      {
       "ename": "SystemExit",
       "evalue": "2",
       "output_type": "pyerr",
       "traceback": [
        "An exception has occurred, use %tb to see the full traceback.\n",
        "\u001b[1;31mSystemExit\u001b[0m\u001b[1;31m:\u001b[0m 2\n"
       ]
      },
      {
       "output_type": "stream",
       "stream": "stderr",
       "text": [
        "usage: script.py [-h] input_file output_file [output_file ...]\n",
        "script.py: error: too few arguments\n",
        "To exit: use 'exit', 'quit', or Ctrl-D.\n"
       ]
      }
     ],
     "prompt_number": 5
    },
    {
     "cell_type": "code",
     "collapsed": false,
     "input": [
      "sys.argv = ['script.py','-h']\n",
      "parser.parse_args()"
     ],
     "language": "python",
     "metadata": {},
     "outputs": [
      {
       "ename": "SystemExit",
       "evalue": "0",
       "output_type": "pyerr",
       "traceback": [
        "An exception has occurred, use %tb to see the full traceback.\n",
        "\u001b[1;31mSystemExit\u001b[0m\u001b[1;31m:\u001b[0m 0\n"
       ]
      },
      {
       "output_type": "stream",
       "stream": "stdout",
       "text": [
        "usage: script.py [-h] input_file output_file [output_file ...]\n",
        "\n",
        "positional arguments:\n",
        "  input_file\n",
        "  output_file\n",
        "\n",
        "optional arguments:\n",
        "  -h, --help   show this help message and exit\n"
       ]
      },
      {
       "output_type": "stream",
       "stream": "stderr",
       "text": [
        "To exit: use 'exit', 'quit', or Ctrl-D.\n"
       ]
      }
     ],
     "prompt_number": 6
    },
    {
     "cell_type": "markdown",
     "metadata": {},
     "source": [
      "- opcjonalnie do add_argument mo\u017cna przekaza\u0107 dodatkowe informacje, np:\n",
      "    - tekst pomocy (help)\n",
      "    - typ argumentu (type)\n",
      "        - int\n",
      "        - float\n",
      "    - liczb\u0119 argument\u00f3w (nargs). nargs mo\u017ce przyjmowa\u0107 nast\u0119puj\u0105ce wartosci:\n",
      "        - liczb\u0119 - program wymaga dok\u0142adnie takiej ilosci parametr\u00f3w\n",
      "        - \"?\" - parametr jest opcjonalny\n",
      "        - \"*\" - parametr mo\u017ce wyst\u0105pi\u0107 dowoln\u0105 ilos\u0107 razy, lub nie wyst\u0105pi\u0107\n",
      "        - \"+\" - parametr mo\u017ce wyst\u0105pi\u0107 dowoln\u0105 ilos\u0107 razy, ale minimum raz\n",
      "        - argparse.REMAINDER - parametr b\u0119dzie zawiera\u0142 wszystko \"zb\u0119dne\" z linii komend (np. celem przekazania do innego programu); musi to by\u0107 ostatni parametr dodany do parsera\n",
      "    - alternatywn\u0105 nazw\u0119 argumentu do wyswietlenia w tekscie pomocy (metavar)\n",
      "    - list\u0119 wartosci jakie mo\u017ce przyjmowa\u0107 argument (choices)\n",
      "    - akcj\u0119 do wykonania\n",
      "        - \"store\" - zapisz przekazan\u0105 wartos\u0107 (domyslnie)\n",
      "        - \"store_const\", \"store_true\", \"store_false\" - zapisz sta\u0142\u0105 wartos\u0107 (dla store_const nale\u017cy doda\u0107 parametr const, okreslaj\u0105cy wartos\u0107 do zapisania)\n",
      "        - \"append\" - dopisz wartos\u0107 do listy\n",
      "        - \"count\" - zlicz ilos\u0107 wyst\u0105pie\u0144\n",
      "- argumenty opcjonalne:\n",
      "    - dodajemy dok\u0142adnie tak jak pozycyjne, ale nazwa musi zaczyna\u0107 si\u0119 od myslnika\n",
      "    - mog\u0105 mie\u0107 warianty (kr\u00f3tki, d\u0142ugi...)\n",
      "    - mo\u017cna stosowa\u0107 tylko prefiks d\u0142ugiej nazwy, pod warunkiem, \u017ce parser jest w stanie jednoznacznie okresli\u0107, o kt\u00f3ry parametr chodzi\n",
      "- dost\u0119p do pobranych parametr\u00f3w odbywa si\u0119 poprzez obiekt Namespace, zwr\u00f3cony przez metod\u0119 parse_args\n",
      "    - zwr\u00f3cony obiekt ma pola, kt\u00f3rych nazwy odpowiadaj\u0105 pierwszej d\u0142ugiej nazwie (lub pierwsze w og\u00f3le, jesli nie ma d\u0142ugiej)"
     ]
    },
    {
     "cell_type": "code",
     "collapsed": false,
     "input": [
      "import sys\n",
      "import argparse\n",
      "\n",
      "sys.argv = ['script.py','-vv','--ver']\n",
      "parser = argparse.ArgumentParser()\n",
      "parser.add_argument(\"-v\",\"-V\",\"--verbose\",action=\"count\",help=\"Makes output of program more verbose\")\n",
      "print parser.parse_args()"
     ],
     "language": "python",
     "metadata": {},
     "outputs": [
      {
       "output_type": "stream",
       "stream": "stdout",
       "text": [
        "Namespace(verbose=3)\n"
       ]
      }
     ],
     "prompt_number": 7
    },
    {
     "cell_type": "markdown",
     "metadata": {},
     "source": [
      "- add_mutually_exclusive_group - tworzy grup\u0119 parametr\u00f3w, kt\u00f3re nie mog\u0105 wsp\u00f3\u0142wyst\u0119powa\u0107"
     ]
    },
    {
     "cell_type": "code",
     "collapsed": false,
     "input": [
      "import sys\n",
      "import argparse\n",
      "\n",
      "parser = argparse.ArgumentParser()\n",
      "group = parser.add_mutually_exclusive_group()\n",
      "group.add_argument(\"-v\",\"--verbose\",action=\"store_true\")\n",
      "group.add_argument(\"-q\",\"--quiet\",action=\"store_true\")\n",
      "print parser.parse_args([])\n",
      "print parser.parse_args(['-h'])\n",
      "print parser.parse_args(['-q'])\n",
      "print parser.parse_args(['-q','-v'])"
     ],
     "language": "python",
     "metadata": {},
     "outputs": [
      {
       "ename": "SystemExit",
       "evalue": "0",
       "output_type": "pyerr",
       "traceback": [
        "An exception has occurred, use %tb to see the full traceback.\n",
        "\u001b[1;31mSystemExit\u001b[0m\u001b[1;31m:\u001b[0m 0\n"
       ]
      },
      {
       "output_type": "stream",
       "stream": "stdout",
       "text": [
        "Namespace(quiet=False, verbose=False)\n",
        "usage: script.py [-h] [-v | -q]\n",
        "\n",
        "optional arguments:\n",
        "  -h, --help     show this help message and exit\n",
        "  -v, --verbose\n",
        "  -q, --quiet\n"
       ]
      },
      {
       "output_type": "stream",
       "stream": "stderr",
       "text": [
        "To exit: use 'exit', 'quit', or Ctrl-D.\n"
       ]
      }
     ],
     "prompt_number": 8
    },
    {
     "cell_type": "heading",
     "level": 2,
     "metadata": {},
     "source": [
      "PIL - Python Image Library"
     ]
    },
    {
     "cell_type": "markdown",
     "metadata": {},
     "source": [
      "- PIL/Pillow - Pythonowskie biblioteki do obr\u00f3bki grafiki (Python Image Library)\n",
      "- obs\u0142uguj\u0105 formaty BMP, PNG, GIF, JPEG i kilka innych\n",
      "- inne formaty s\u0105 tylko odczytywane (CUR, ICO), lub tylko zapisywane (PDF)\n",
      "- najwa\u017cniejsza z punktu widzenia u\u017cytkownika jest klasa Image\n",
      "- otwieramy obraz wywo\u0142uj\u0105c jej metod\u0119 (klasow\u0105) open:"
     ]
    },
    {
     "cell_type": "code",
     "collapsed": false,
     "input": [
      "import Image\n",
      "\n",
      "im = Image.open(\"python.png\")\n",
      "print im\n",
      "print im.format, im.size, im.mode\n",
      "#im.show()"
     ],
     "language": "python",
     "metadata": {},
     "outputs": [
      {
       "output_type": "stream",
       "stream": "stdout",
       "text": [
        "<PngImagePlugin.PngImageFile image mode=RGBA size=601x203 at 0x1C1F300>\n",
        "PNG (601, 203) RGBA\n"
       ]
      }
     ],
     "prompt_number": 45
    },
    {
     "cell_type": "markdown",
     "metadata": {},
     "source": [
      "- mamy dost\u0119p do danych obrazu (format, rozmiar itp.), ale sam obraz jeszcze nie zosta\u0142 wczytany (lazy read)\n",
      "- zapis do pliku wykonuje metoda save(filename)\n",
      "- format pliku (zar\u00f3wno przy odczycie jak i zapisie) rozpoznawany jest po rozszerzeniu\n",
      "- wsp\u00f3\u0142rz\u0119dne pikseli s\u0105 liczone od lewego g\u00f3rnego rogu"
     ]
    },
    {
     "cell_type": "code",
     "collapsed": false,
     "input": [
      "import os, sys\n",
      "import Image\n",
      "\n",
      "for infile in ['python.png']:\n",
      "    f, e = os.path.splitext(infile)\n",
      "    outfile = f + \".jpg\"\n",
      "    if infile != outfile:\n",
      "        try:\n",
      "            Image.open(infile).save(outfile)\n",
      "        except IOError:\n",
      "            print \"cannot convert\", infile"
     ],
     "language": "python",
     "metadata": {},
     "outputs": [],
     "prompt_number": 31
    },
    {
     "cell_type": "markdown",
     "metadata": {},
     "source": [
      "- skalowanie obrazka:"
     ]
    },
    {
     "cell_type": "code",
     "collapsed": false,
     "input": [
      "im = Image.open(\"python.png\")\n",
      "im.thumbnail((100,100))\n",
      "#im.show()\n",
      "im = im.resize((200,100))\n",
      "#im.show()"
     ],
     "language": "python",
     "metadata": {},
     "outputs": [],
     "prompt_number": 69
    },
    {
     "cell_type": "markdown",
     "metadata": {},
     "source": [
      "- kopiowanie i wklejanie fragmentu:"
     ]
    },
    {
     "cell_type": "code",
     "collapsed": false,
     "input": [
      "im = Image.open(\"python.png\")\n",
      "reg = im.crop((0,0,100,100))\n",
      "im.paste(reg,(80,80,180,180))\n",
      "#reg.show()\n",
      "#im.show()"
     ],
     "language": "python",
     "metadata": {},
     "outputs": [],
     "prompt_number": 70
    },
    {
     "cell_type": "markdown",
     "metadata": {},
     "source": [
      "- dost\u0119p na poziomie pikseli:"
     ]
    },
    {
     "cell_type": "code",
     "collapsed": false,
     "input": [
      "im = Image.open(\"python.png\")\n",
      "from random import randint\n",
      "\n",
      "pixels = im.load()\n",
      "for _ in range(20):\n",
      "    x,y = randint(0,200),randint(0,200)\n",
      "    pixels[x,y] = (255,0,0,0)#(R,G,B,A)\n",
      "#im.show()"
     ],
     "language": "python",
     "metadata": {},
     "outputs": [],
     "prompt_number": 64
    },
    {
     "cell_type": "markdown",
     "metadata": {},
     "source": [
      "- map() w wersji dla pikseli:"
     ]
    },
    {
     "cell_type": "code",
     "collapsed": false,
     "input": [
      "im = Image.open(\"python.png\")\n",
      "im.point(lambda x: x*1.5)#.show()"
     ],
     "language": "python",
     "metadata": {},
     "outputs": [],
     "prompt_number": 75
    },
    {
     "cell_type": "markdown",
     "metadata": {},
     "source": [
      "- obr\u00f3t i przerzut:"
     ]
    },
    {
     "cell_type": "code",
     "collapsed": false,
     "input": [
      "im = Image.open(\"python.png\")\n",
      "im.rotate(45)#.show()\n",
      "im.transpose(Image.FLIP_LEFT_RIGHT)#.show()"
     ],
     "language": "python",
     "metadata": {},
     "outputs": [],
     "prompt_number": 81
    },
    {
     "cell_type": "markdown",
     "metadata": {},
     "source": [
      "- podzia\u0142 na kolory:"
     ]
    },
    {
     "cell_type": "code",
     "collapsed": false,
     "input": [
      "im.split()[0]#.show()"
     ],
     "language": "python",
     "metadata": {},
     "outputs": []
    },
    {
     "cell_type": "markdown",
     "metadata": {},
     "source": [
      "- tworzenie nowego obrazka:"
     ]
    },
    {
     "cell_type": "code",
     "collapsed": false,
     "input": [
      "im = Image.new('RGB', (200, 100), (0,0,0))\n",
      "#im.show()"
     ],
     "language": "python",
     "metadata": {},
     "outputs": [],
     "prompt_number": 82
    },
    {
     "cell_type": "heading",
     "level": 2,
     "metadata": {},
     "source": [
      "Zadania do wykonania"
     ]
    },
    {
     "cell_type": "markdown",
     "metadata": {},
     "source": [
      "1. [2p] Napisa\u0107 solver do nast\u0119puj\u0105cego problemu:\n",
      "    1. Zadana jest plansza w pliku png. Plansza sk\u0142ada si\u0119 z pikseli kt\u00f3re mog\u0105\u00a0reprezentowa\u0107 elementy typu: teren zwyk\u0142y (TERRAIN),  jednostka wroga (ENEMY),   jednostka sojusznicza (ALLIANCE) oraz mur (WALL). \n",
      "    Kolory tych pikseli zosta\u0142y zdefiniowane w pliku U5/map_colors.py\n",
      "    1. Problem polega na znalezieniu miejsca gdzie nale\u017cy spu\u015bci\u0107 bomb\u0119 o promieniu R pikseli tak aby zmaksymalizowa\u0107\u00a0zysk takiego ataku.\n",
      "    1. Zysk liczony jest nast\u0119puj\u0105co: za ka\u017cdego zabitego wroga dostajemy +1 punkt, za ka\u017cd\u0105 stracon\u0105 jednostk\u0119 sojusznicz\u0105 -2 punkty.\n",
      "    1. Dodatkowo je\u015bli na linii fali uderzeniowej pomi\u0119dzy epicentrum wybuchu, a pikselem dowolnej jednostki stoi mur  to jednostka ta zupe\u0142nie unika obra\u017ce\u0144. Nie uwzgl\u0119dnia si\u0119 ewentualnego muru w punkcie, w kt\u00f3ry uderzy\u0142a bomba.\n",
      "    1. Solver uruchamiamy poleceniem:\n",
      "    \n",
      "        ```\n",
      "        $ python war.py -r 10 plansza.png\n",
      "        \n",
      "        Parametry:\n",
      "        -r  promien w pikselach  (obowizakowy)\n",
      "        -e  liczba punktow za zabicie przeciwnika (domy\u015blnie +1)\n",
      "        -o  liczba punktow za zabicie w\u0142asnej jednostki (domy\u015blnie -2)\n",
      "        \n",
      "        -f  nazwa pliku wynikowego (opcjonalnie)\n",
      "        ```\n",
      "        \n",
      "    1. Program na stdout ma wypisa\u0107\u00a0informacj\u0119 o ataku (przynajmniej wypisa\u0107\u00a0liczb\u0119\u00a0punkt\u00f3w) oraz X,Y epicentrum wybuchu bomby.\n",
      "    Dodatkowo je\u015bli podano opcj\u0119 -f nale\u017cy wygenerowa\u0107 plansz\u0119 z zaznaczonym okr\u0119giem i \u015brodkiem dzia\u0142ania bomby.\n",
      "    1. Do realizacji laboratorium nale\u017cy u\u017cy\u0107 bilbioteki argparse oraz PIL (pillow).\n",
      "1. Do generowania testowych map mo\u017cna u\u017cy\u0107 za\u0142\u0105czonego programu map_maker.py:\n",
      "    \n",
      "    ```\n",
      "    $ ./map_maker.py --help\n",
      "    usage: map_maker.py [-h] [-x WIDTH] [-y HEIGHT] [-e ENEMIES] [-a ALLIANCE]\n",
      "                        [-w WALL]\n",
      "    \n",
      "    Generates a map for U5 exercise.\n",
      "    \n",
      "    optional arguments:\n",
      "      -h, --help            show this help message and exit\n",
      "      -x WIDTH, --width WIDTH\n",
      "                            map width (default: 800)\n",
      "      -y HEIGHT, --height HEIGHT\n",
      "                            map height (default: 600)\n",
      "      -e ENEMIES, --enemies ENEMIES\n",
      "                            enemies number rate (0.0 - 1.0; default: 0.5)\n",
      "      -a ALLIANCE, --alliance ALLIANCE\n",
      "                            aliance number rate (0.0 - 1.0; default: 0.5)\n",
      "      -w WALL, --wall WALL  wall number rate (0.0 - 1.0; default: 0.5)\n",
      "      \n",
      "    $ ./map_maker.py -x 300 -y 300 -e 0.2 -a 0.1\n",
      "    u5-board-20131128124549.png\n",
      "    \n",
      "    ```\n",
      "\n",
      "    <img src=\"files/U5/u5-board-20131128124549.png\">\n",
      "1. Je\u015bli kto\u015b ma pomys\u0142 na fajniejszy generator mur\u00f3w (np. taki, kt\u00f3ry bardziej wygl\u0105da jak fortyfikacje) to prosz\u0119 zrobi\u0107\u00a0pull-request. :)"
     ]
    }
   ],
   "metadata": {}
  }
 ]
}