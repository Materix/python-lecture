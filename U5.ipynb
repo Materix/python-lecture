{
 "metadata": {
  "name": ""
 },
 "nbformat": 3,
 "nbformat_minor": 0,
 "worksheets": [
  {
   "cells": [
    {
     "cell_type": "heading",
     "level": 1,
     "metadata": {},
     "source": [
      "J\u0119zyk Python - Laboratorium 5."
     ]
    },
    {
     "cell_type": "heading",
     "level": 2,
     "metadata": {},
     "source": [
      "argparse"
     ]
    },
    {
     "cell_type": "markdown",
     "metadata": {},
     "source": [
      "TODO"
     ]
    },
    {
     "cell_type": "heading",
     "level": 2,
     "metadata": {},
     "source": [
      "PIL - Python Image Library"
     ]
    },
    {
     "cell_type": "markdown",
     "metadata": {},
     "source": [
      "TODO "
     ]
    },
    {
     "cell_type": "heading",
     "level": 2,
     "metadata": {},
     "source": [
      "Zadania do wykonania"
     ]
    },
    {
     "cell_type": "markdown",
     "metadata": {},
     "source": [
      "1. [2p] Napisa\u0107 solver do nast\u0119puj\u0105cego problemu:\n",
      "    1. Zadana jest plansza w pliku png. Plansza sk\u0142ada si\u0119 z pikseli kt\u00f3re mog\u0105\u00a0reprezentowa\u0107 elementy typu: teren zwyk\u0142y (TERRAIN),  jednostka wroga (ENEMY),   jednostka sojusznicza (ALLIANCE) oraz mur (WALL). \n",
      "    Kolory tych pikseli zosta\u0142y zdefiniowane w pliku U5/map_colors.py\n",
      "    1. Problem polega na znalezieniu miejsca gdzie nale\u017cy spu\u015bci\u0107 bomb\u0119 o promieniu R pikseli tak aby zmaksymalizowa\u0107\u00a0zysk takiego ataku.\n",
      "    1. Zysk liczony jest nast\u0119puj\u0105co: za ka\u017cdego zabitego wroga dostajemy +1 punkt, za ka\u017cd\u0105 stracon\u0105 jednostk\u0119 sojusznicz\u0105 -2 punkty. Dodatkowo je\u015bli na linii fali uderzeniowej pomi\u0119dzy epicentrum wybuchu, a pikselem dowolnej jednostki stoi mur  to jednostka ta zupe\u0142nie unika obra\u017ce\u0144.\n",
      "    1. Solver uruchamiamy poleceniem:\n",
      "    \n",
      "        ```\n",
      "        $ python war.py -r 10 plansza.png\n",
      "        \n",
      "        Parametry:\n",
      "        -r  promien w pikselach  (obowizakowy)\n",
      "        -e  liczba punktow za zabicie przeciwnika (domy\u015blnie +1)\n",
      "        -o  liczba punktow za zabicie w\u0142asnej jednostki (domy\u015blnie -2)\n",
      "        \n",
      "        -f  nazwa pliku wynikowego (opcjonalnie)\n",
      "        ```\n",
      "        \n",
      "    1. Program na stdout ma wypisa\u0107\u00a0informacj\u0119 o ataku (minimum wpisa\u0107\u00a0liczb\u0119\u00a0punkt\u00f3w) oraz X,Y epicentrum wybuchu bomby.\n",
      "    Dodatkowo je\u015bli podano je\u015bli podano opcj\u0119 -f nale\u017cy wygenerowa\u0107 plansz\u0119 z zaznaczonym okr\u0119giem i \u015brodkiem dzia\u0142ania bomby.\n",
      "    1. Do realizacji laboratorium nale\u017cy u\u017cy\u0107 bilbioteki argparse oraz PIL (pillow).\n",
      "1. Do generowania testowych map mo\u017cna u\u017cy\u0107 za\u0142\u0105czonego programu map_maker.py:\n",
      "    \n",
      "    ```\n",
      "    $ ./map_maker.py --help\n",
      "    usage: map_maker.py [-h] [-x WIDTH] [-y HEIGHT] [-e ENEMIES] [-a ALLIANCE]\n",
      "                        [-w WALL]\n",
      "    \n",
      "    Generates a map for U5 exercise.\n",
      "    \n",
      "    optional arguments:\n",
      "      -h, --help            show this help message and exit\n",
      "      -x WIDTH, --width WIDTH\n",
      "                            map width (default: 800)\n",
      "      -y HEIGHT, --height HEIGHT\n",
      "                            map height (default: 600)\n",
      "      -e ENEMIES, --enemies ENEMIES\n",
      "                            enemies number rate (0.0 - 1.0; default: 0.5)\n",
      "      -a ALLIANCE, --alliance ALLIANCE\n",
      "                            aliance number rate (0.0 - 1.0; default: 0.5)\n",
      "      -w WALL, --wall WALL  wall number rate (0.0 - 1.0; default: 0.5)\n",
      "      \n",
      "    $ ./map_maker.py -x 300 -y 300 -e 0.2 -a 0.1\n",
      "    u5-board-20131128124549.png\n",
      "    \n",
      "    ```\n",
      "\n",
      "    <img src=\"files/U5/u5-board-20131128124549.png\">\n",
      "1. Je\u015bli kto\u015b ma pomys\u0142 jak na fajniejszy generator mur\u00f3w (np. taki, kt\u00f3ry bardziej wygl\u0105da jak fortyfikacje) to prosz\u0119 zrobi\u0107\u00a0pull-request. :)"
     ]
    }
   ],
   "metadata": {}
  }
 ]
}