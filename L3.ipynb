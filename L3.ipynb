{
 "metadata": {
  "name": ""
 },
 "nbformat": 3,
 "nbformat_minor": 0,
 "worksheets": [
  {
   "cells": [
    {
     "cell_type": "heading",
     "level": 1,
     "metadata": {},
     "source": [
      "J\u0119zyk Python - Wyk\u0142ad 3\n"
     ]
    },
    {
     "cell_type": "heading",
     "level": 2,
     "metadata": {},
     "source": [
      "Closures (Domkni\u0119cia)"
     ]
    },
    {
     "cell_type": "code",
     "collapsed": false,
     "input": [
      "Domkni\u0119cie - funkcja wraz z otoczeniem referencyjnym (wszystkie zmienne  leksykalnym "
     ],
     "language": "python",
     "metadata": {},
     "outputs": []
    },
    {
     "cell_type": "code",
     "collapsed": false,
     "input": [
      "def makeinc(x):\n",
      "   def inc(y):\n",
      "      return y+x\n",
      "   return inc"
     ],
     "language": "python",
     "metadata": {},
     "outputs": []
    },
    {
     "cell_type": "code",
     "collapsed": false,
     "input": [
      "inc5 = makeinc(5)"
     ],
     "language": "python",
     "metadata": {},
     "outputs": []
    },
    {
     "cell_type": "code",
     "collapsed": false,
     "input": [
      "inc10 = makeinc(10)\n"
     ],
     "language": "python",
     "metadata": {},
     "outputs": []
    },
    {
     "cell_type": "code",
     "collapsed": false,
     "input": [
      "inc5(10)"
     ],
     "language": "python",
     "metadata": {},
     "outputs": []
    },
    {
     "cell_type": "code",
     "collapsed": false,
     "input": [
      "inc10(10)"
     ],
     "language": "python",
     "metadata": {},
     "outputs": []
    },
    {
     "cell_type": "code",
     "collapsed": false,
     "input": [
      "#py3k\n",
      "def outer():\n",
      "   y = 0\n",
      "   def inner():\n",
      "      nonlocal y#slowo kluczowe py3k\n",
      "      y=y+1\n",
      "      return y\n",
      "   return inner\n",
      "\n",
      "f = outer()\n",
      "print ( f(), f(), f() ) # 1 2 3"
     ],
     "language": "python",
     "metadata": {},
     "outputs": []
    },
    {
     "cell_type": "code",
     "collapsed": false,
     "input": [
      "#Groovy\n",
      "def localMethod() {\n",
      "  def localVariable = new java.util.Date()\n",
      "  return { println localVariable }\n",
      "}\n",
      "def clos = localMethod()\n"
     ],
     "language": "python",
     "metadata": {},
     "outputs": []
    },
    {
     "cell_type": "code",
     "collapsed": false,
     "input": [
      "#Javascript \n",
      "function createMarker(point, number) {\n",
      "    var marker = new GMarker(point);\n",
      "    var message = [\"This\",\"is\",\"the\",\"secret\",\"message\"];\n",
      "    marker.value = number;\n",
      "    GEvent.addListener(marker, \"click\", function() {\n",
      "        var myHtml = \"<b>#\" + number + \"</b><br/>\" +\n",
      "            message[number -1];\n",
      "        map.openInfoWindowHtml(point, myHtml);\n",
      "    });\n",
      "    return marker;\n",
      "}\n"
     ],
     "language": "python",
     "metadata": {},
     "outputs": []
    },
    {
     "cell_type": "heading",
     "level": 2,
     "metadata": {},
     "source": [
      "Dekoratory"
     ]
    },
    {
     "cell_type": "code",
     "collapsed": false,
     "input": [
      "def enhanced(function):\n",
      "    def new(y):\n",
      "        print \"But now, I am enhanced\"\n",
      "        return function(y)\n",
      "    return new\n"
     ],
     "language": "python",
     "metadata": {},
     "outputs": []
    },
    {
     "cell_type": "code",
     "collapsed": false,
     "input": [
      "def f(n):\n",
      "    print \"Just a simple method printing %d.\" % n"
     ],
     "language": "python",
     "metadata": {},
     "outputs": []
    },
    {
     "cell_type": "code",
     "collapsed": false,
     "input": [
      "f(1)"
     ],
     "language": "python",
     "metadata": {},
     "outputs": []
    },
    {
     "cell_type": "code",
     "collapsed": false,
     "input": [
      "f = enhanced(f)"
     ],
     "language": "python",
     "metadata": {},
     "outputs": []
    },
    {
     "cell_type": "code",
     "collapsed": false,
     "input": [
      "f(1)"
     ],
     "language": "python",
     "metadata": {},
     "outputs": []
    },
    {
     "cell_type": "code",
     "collapsed": false,
     "input": [
      "@enhanced\n",
      "def g(n):\n",
      "    print \"Another simple method printing %d.\" % n"
     ],
     "language": "python",
     "metadata": {},
     "outputs": []
    },
    {
     "cell_type": "code",
     "collapsed": false,
     "input": [
      "g(2)"
     ],
     "language": "python",
     "metadata": {},
     "outputs": []
    },
    {
     "cell_type": "code",
     "collapsed": false,
     "input": [
      "def veryenhanced(function):\n",
      "    def new(y):\n",
      "        print \"But now, I am very enhanced\"\n",
      "        return function(y)\n",
      "    return new"
     ],
     "language": "python",
     "metadata": {},
     "outputs": []
    },
    {
     "cell_type": "code",
     "collapsed": false,
     "input": [
      "@veryenhanced\n",
      "@enhanced\n",
      "def h(n):\n",
      "    print \"So simple method printing %d.\" % n"
     ],
     "language": "python",
     "metadata": {},
     "outputs": []
    },
    {
     "cell_type": "code",
     "collapsed": false,
     "input": [
      "h(3)"
     ],
     "language": "python",
     "metadata": {},
     "outputs": []
    },
    {
     "cell_type": "code",
     "collapsed": false,
     "input": [
      "#Example ...\n",
      "@synchronized\n",
      "@logging\n",
      "def myfunc(arg1, arg2, ...):\n",
      "# ...do something\n"
     ],
     "language": "python",
     "metadata": {},
     "outputs": []
    },
    {
     "cell_type": "code",
     "collapsed": false,
     "input": [
      "def entryExit(f):\n",
      "    def new_f():\n",
      "        print \"Entering\", f.__name__\n",
      "        f()\n",
      "        print \"Exited\", f.__name__\n",
      "    return new_f\n"
     ],
     "language": "python",
     "metadata": {},
     "outputs": []
    },
    {
     "cell_type": "code",
     "collapsed": false,
     "input": [
      "@entryExit\n",
      "def func1():\n",
      "    print \"inside func1()\""
     ],
     "language": "python",
     "metadata": {},
     "outputs": []
    },
    {
     "cell_type": "code",
     "collapsed": false,
     "input": [
      "func1()"
     ],
     "language": "python",
     "metadata": {},
     "outputs": []
    },
    {
     "cell_type": "raw",
     "metadata": {},
     "source": [
      "Ci\u0105g dalszy nast\u0105pi za chwil\u0119 ..."
     ]
    },
    {
     "cell_type": "heading",
     "level": 2,
     "metadata": {},
     "source": [
      "Obiektowo\u015b\u0107"
     ]
    },
    {
     "cell_type": "code",
     "collapsed": false,
     "input": [
      "class MyClass:\n",
      "    \n",
      "    def f(self,m):\n",
      "        self.n = m\n",
      "        return 'hello world'\n",
      "    \n",
      "    def __init__(self):\n",
      "        self.n = 12345 #pole zwyk\u0142e\n",
      "    i = 12345 #pole statyczne\n",
      "\n",
      "m=MyClass()\n",
      "m.f(1)\n",
      "    "
     ],
     "language": "python",
     "metadata": {},
     "outputs": []
    },
    {
     "cell_type": "code",
     "collapsed": false,
     "input": [
      "print MyClass.i"
     ],
     "language": "python",
     "metadata": {},
     "outputs": []
    },
    {
     "cell_type": "code",
     "collapsed": false,
     "input": [
      "m2 = MyClass()\n",
      "print m2.i"
     ],
     "language": "python",
     "metadata": {},
     "outputs": []
    },
    {
     "cell_type": "code",
     "collapsed": false,
     "input": [
      "#podstawienie\n",
      "m.i-=1\n",
      "print m.i, MyClass.i,m2.i"
     ],
     "language": "python",
     "metadata": {},
     "outputs": []
    },
    {
     "cell_type": "code",
     "collapsed": false,
     "input": [
      "class MyClass(object):\n",
      "    \n",
      "    def method1(self,x):\n",
      "        print x\n",
      "    \n",
      "    def somestaticmethod(x):\n",
      "        print x\n",
      "    \n",
      "    somestaticmethod=staticmethod(somestaticmethod)\n",
      "\n",
      "m=MyClass()\n",
      "MyClass.somestaticmethod(1)\n",
      "print\n",
      "m.somestaticmethod(2)"
     ],
     "language": "python",
     "metadata": {},
     "outputs": []
    },
    {
     "cell_type": "code",
     "collapsed": false,
     "input": [
      "class MyClass(object):\n",
      "    def method1(self,x):\n",
      "        print x\n",
      "    @staticmethod\n",
      "    def somestaticmethod(x):\n",
      "        print x\n",
      "\n",
      "m=MyClass()\n",
      "MyClass.somestaticmethod(1)\n",
      "print\n",
      "m.somestaticmethod(2)"
     ],
     "language": "python",
     "metadata": {},
     "outputs": []
    },
    {
     "cell_type": "code",
     "collapsed": false,
     "input": [
      "class MyClass(object):\n",
      "    def method1(self,x):\n",
      "        print x\n",
      "    @classmethod\n",
      "    def someclassmethod(cls,x):\n",
      "        print cls\n",
      "        print x\n",
      "\n",
      "m=MyClass()\n",
      "MyClass.someclassmethod(1)\n",
      "print\n",
      "m.someclassmethod(2)"
     ],
     "language": "python",
     "metadata": {},
     "outputs": []
    },
    {
     "cell_type": "code",
     "collapsed": false,
     "input": [
      "class Employee:\n",
      "    pass\n",
      "john = Employee() # Create an empty employee\n",
      "# Fill the fields of the record\n",
      "john.name = 'John Doe'\n",
      "john.dept = 'computer lab'\n",
      "john.salary = 1000\n"
     ],
     "language": "python",
     "metadata": {},
     "outputs": []
    },
    {
     "cell_type": "code",
     "collapsed": false,
     "input": [],
     "language": "python",
     "metadata": {},
     "outputs": []
    },
    {
     "cell_type": "code",
     "collapsed": false,
     "input": [],
     "language": "python",
     "metadata": {},
     "outputs": []
    }
   ],
   "metadata": {}
  }
 ]
}