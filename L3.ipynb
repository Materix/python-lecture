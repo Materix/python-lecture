{
 "metadata": {
  "name": ""
 },
 "nbformat": 3,
 "nbformat_minor": 0,
 "worksheets": [
  {
   "cells": [
    {
     "cell_type": "heading",
     "level": 1,
     "metadata": {},
     "source": [
      "J\u0119zyk Python - Wyk\u0142ad 3\n"
     ]
    },
    {
     "cell_type": "heading",
     "level": 2,
     "metadata": {},
     "source": [
      "Closures (Domkni\u0119cia)"
     ]
    },
    {
     "cell_type": "heading",
     "level": 4,
     "metadata": {},
     "source": [
      "Domkni\u0119cie - funkcja wraz z otoczeniem referencyjnym (wszystkie zmienne z czasu utworzenia) - dost\u0119pne nawet po opusczeniu otoczenia leksykalnego"
     ]
    },
    {
     "cell_type": "code",
     "collapsed": false,
     "input": [
      "def makeinc(x):\n",
      "   def inc(y):\n",
      "      return y + x\n",
      "   return inc"
     ],
     "language": "python",
     "metadata": {},
     "outputs": []
    },
    {
     "cell_type": "code",
     "collapsed": false,
     "input": [
      "inc5 = makeinc(5)"
     ],
     "language": "python",
     "metadata": {},
     "outputs": []
    },
    {
     "cell_type": "code",
     "collapsed": false,
     "input": [
      "inc10 = makeinc(10)"
     ],
     "language": "python",
     "metadata": {},
     "outputs": []
    },
    {
     "cell_type": "code",
     "collapsed": false,
     "input": [
      "inc5(10)"
     ],
     "language": "python",
     "metadata": {},
     "outputs": []
    },
    {
     "cell_type": "code",
     "collapsed": false,
     "input": [
      "inc10(10)"
     ],
     "language": "python",
     "metadata": {},
     "outputs": []
    },
    {
     "cell_type": "markdown",
     "metadata": {},
     "source": [
      "    #py3k\n",
      "\n",
      "    def outer():\n",
      "        y = 0\n",
      "        def inner():\n",
      "            nonlocal y  #s\u0142owo kluczowe py3k\n",
      "            y = y + 1\n",
      "            return y\n",
      "        return inner\n",
      "\n",
      "\n",
      "    f = outer()\n",
      "    print (f(), f(), f())  #1 2 3"
     ]
    },
    {
     "cell_type": "heading",
     "level": 3,
     "metadata": {},
     "source": [
      "Domkni\u0119cie w Groovy"
     ]
    },
    {
     "cell_type": "markdown",
     "metadata": {},
     "source": [
      "    def localMethod() {\n",
      "      def localVariable = new java.util.Date()\n",
      "      return { println localVariable }\n",
      "    }\n",
      "    def clos = localMethod()\n"
     ]
    },
    {
     "cell_type": "heading",
     "level": 3,
     "metadata": {},
     "source": [
      "Domkni\u0119cie w JavaScript"
     ]
    },
    {
     "cell_type": "markdown",
     "metadata": {},
     "source": [
      "    function createMarker(point, number) {\n",
      "        var marker = new GMarker(point);\n",
      "        var message = [\"This\",\"is\",\"the\",\"secret\",\"message\"];\n",
      "        marker.value = number;\n",
      "        GEvent.addListener(marker, \"click\", function() {\n",
      "            var myHtml = \"<b>#\" + number + \"</b><br/>\" +\n",
      "                message[number -1];\n",
      "            map.openInfoWindowHtml(point, myHtml);\n",
      "        });\n",
      "        return marker;\n",
      "    }\n"
     ]
    },
    {
     "cell_type": "heading",
     "level": 2,
     "metadata": {},
     "source": [
      "Dekoratory"
     ]
    },
    {
     "cell_type": "code",
     "collapsed": false,
     "input": [
      "def enhanced(function):\n",
      "    def new(y):\n",
      "        print \"But now, I am enhanced\"\n",
      "        return function(y)\n",
      "    return new\n"
     ],
     "language": "python",
     "metadata": {},
     "outputs": []
    },
    {
     "cell_type": "code",
     "collapsed": false,
     "input": [
      "def f(n):\n",
      "    print \"Just a simple method printing %d.\" % n"
     ],
     "language": "python",
     "metadata": {},
     "outputs": []
    },
    {
     "cell_type": "code",
     "collapsed": false,
     "input": [
      "f(1)"
     ],
     "language": "python",
     "metadata": {},
     "outputs": []
    },
    {
     "cell_type": "code",
     "collapsed": false,
     "input": [
      "f = enhanced(f)"
     ],
     "language": "python",
     "metadata": {},
     "outputs": []
    },
    {
     "cell_type": "code",
     "collapsed": false,
     "input": [
      "f(1)"
     ],
     "language": "python",
     "metadata": {},
     "outputs": []
    },
    {
     "cell_type": "code",
     "collapsed": false,
     "input": [
      "@enhanced\n",
      "def g(n):\n",
      "    print \"Another simple method printing %d.\" % n"
     ],
     "language": "python",
     "metadata": {},
     "outputs": []
    },
    {
     "cell_type": "code",
     "collapsed": false,
     "input": [
      "g(2)"
     ],
     "language": "python",
     "metadata": {},
     "outputs": []
    },
    {
     "cell_type": "code",
     "collapsed": false,
     "input": [
      "def veryenhanced(function):\n",
      "    def new(y):\n",
      "        print \"But now, I am very enhanced\"\n",
      "        return function(y)\n",
      "    return new"
     ],
     "language": "python",
     "metadata": {},
     "outputs": []
    },
    {
     "cell_type": "code",
     "collapsed": false,
     "input": [
      "@veryenhanced\n",
      "@enhanced\n",
      "def h(n):\n",
      "    print \"So simple method printing %d.\" % n"
     ],
     "language": "python",
     "metadata": {},
     "outputs": []
    },
    {
     "cell_type": "code",
     "collapsed": false,
     "input": [
      "h(3)"
     ],
     "language": "python",
     "metadata": {},
     "outputs": []
    },
    {
     "cell_type": "markdown",
     "metadata": {},
     "source": [
      "    #Example ...\n",
      "    @synchronized\n",
      "    @logging\n",
      "    def myfunc(arg1, arg2, ...):\n",
      "    # ...do something\n"
     ]
    },
    {
     "cell_type": "markdown",
     "metadata": {},
     "source": [
      "Ci\u0105g dalszy nast\u0105pi za chwil\u0119 ..."
     ]
    },
    {
     "cell_type": "heading",
     "level": 2,
     "metadata": {},
     "source": [
      "Obiektowo\u015b\u0107"
     ]
    },
    {
     "cell_type": "code",
     "collapsed": false,
     "input": [
      "class MyClass:\n",
      "    \n",
      "    def f(self,m):\n",
      "        self.n = m\n",
      "        return 'hello world'\n",
      "    \n",
      "    def __init__(self):\n",
      "        self.n = 12345  #pole zwyk\u0142e\n",
      "    i = 12345  #pole statyczne\n",
      "\n",
      "m = MyClass()\n",
      "m.f(1)\n",
      "    "
     ],
     "language": "python",
     "metadata": {},
     "outputs": []
    },
    {
     "cell_type": "code",
     "collapsed": false,
     "input": [
      "print MyClass.i"
     ],
     "language": "python",
     "metadata": {},
     "outputs": []
    },
    {
     "cell_type": "code",
     "collapsed": false,
     "input": [
      "m2 = MyClass()\n",
      "print m2.i"
     ],
     "language": "python",
     "metadata": {},
     "outputs": []
    },
    {
     "cell_type": "code",
     "collapsed": false,
     "input": [
      "#podstawienie\n",
      "m.i -= 1\n",
      "print m.i, MyClass.i, m2.i"
     ],
     "language": "python",
     "metadata": {},
     "outputs": []
    },
    {
     "cell_type": "code",
     "collapsed": false,
     "input": [
      "class MyClass(object):\n",
      "    \n",
      "    def method1(self,x):\n",
      "        print x\n",
      "    \n",
      "    def somestaticmethod(x):\n",
      "        print x\n",
      "    \n",
      "    somestaticmethod = staticmethod(somestaticmethod)\n",
      "\n",
      "m = MyClass()\n",
      "MyClass.somestaticmethod(1)\n",
      "print\n",
      "m.somestaticmethod(2)"
     ],
     "language": "python",
     "metadata": {},
     "outputs": []
    },
    {
     "cell_type": "code",
     "collapsed": false,
     "input": [
      "class MyClass(object):\n",
      "    \n",
      "    def method1(self, x):\n",
      "        print x\n",
      "    \n",
      "    @staticmethod\n",
      "    def somestaticmethod(x):\n",
      "        print x\n",
      "\n",
      "        \n",
      "m = MyClass()\n",
      "MyClass.somestaticmethod(1)\n",
      "print\n",
      "m.somestaticmethod(2)"
     ],
     "language": "python",
     "metadata": {},
     "outputs": []
    },
    {
     "cell_type": "code",
     "collapsed": false,
     "input": [
      "class MyClass(object):\n",
      "    \n",
      "    def method1(self, x):\n",
      "        print x\n",
      "    \n",
      "    @classmethod\n",
      "    def someclassmethod(cls, x):\n",
      "        print cls\n",
      "        print x\n",
      "\n",
      "        \n",
      "m = MyClass()\n",
      "MyClass.someclassmethod(1)\n",
      "print\n",
      "m.someclassmethod(2)"
     ],
     "language": "python",
     "metadata": {},
     "outputs": []
    },
    {
     "cell_type": "code",
     "collapsed": false,
     "input": [
      "class Employee:\n",
      "    pass\n",
      "\n",
      "\n",
      "john = Employee()  # Create an empty employee\n",
      "# Fill the fields of the record\n",
      "john.name = 'John Doe'\n",
      "john.dept = 'computer lab'\n",
      "john.salary = 1000"
     ],
     "language": "python",
     "metadata": {},
     "outputs": []
    },
    {
     "cell_type": "heading",
     "level": 2,
     "metadata": {},
     "source": [
      "We are all consenting adults here\n"
     ]
    },
    {
     "cell_type": "heading",
     "level": 3,
     "metadata": {},
     "source": [
      "Nie ma p\u00f3l i metod prywatnych ale ...\n"
     ]
    },
    {
     "cell_type": "heading",
     "level": 3,
     "metadata": {},
     "source": [
      "Pola zaczynaj\u0105ce si\u0119 od \u201e__\u201d maj\u0105\n",
      "nazw\u0119 zmienion\u0105\n"
     ]
    },
    {
     "cell_type": "code",
     "collapsed": false,
     "input": [
      "class MyClass:\n",
      "    \n",
      "    def __init__(self):\n",
      "        self.__n = 12345  #pole \"prywatne\"\n",
      "\n",
      "m = MyClass()\n",
      "print m._MyClass__n"
     ],
     "language": "python",
     "metadata": {},
     "outputs": []
    },
    {
     "cell_type": "heading",
     "level": 2,
     "metadata": {},
     "source": [
      "Monkey Patching"
     ]
    },
    {
     "cell_type": "code",
     "collapsed": false,
     "input": [
      "import pickle"
     ],
     "language": "python",
     "metadata": {},
     "outputs": []
    },
    {
     "cell_type": "code",
     "collapsed": false,
     "input": [
      "import cPickle as pickle"
     ],
     "language": "python",
     "metadata": {},
     "outputs": []
    },
    {
     "cell_type": "markdown",
     "metadata": {},
     "source": [
      "    import module\n",
      "    class ReplaceClass(object):\n",
      "        ....\n",
      "    module.MyClass = ReplaceClass"
     ]
    },
    {
     "cell_type": "code",
     "collapsed": false,
     "input": [
      "class foo:\n",
      "    \n",
      "    def bar(self):\n",
      "        print \"foobar\""
     ],
     "language": "python",
     "metadata": {},
     "outputs": []
    },
    {
     "cell_type": "code",
     "collapsed": false,
     "input": [
      "def monkey_bar(self):\n",
      "    print \"monkey foobar\"\n",
      "\n",
      "foo.bar = monkey_bar"
     ],
     "language": "python",
     "metadata": {},
     "outputs": []
    },
    {
     "cell_type": "code",
     "collapsed": false,
     "input": [
      "f = foo()\n",
      "f.bar()"
     ],
     "language": "python",
     "metadata": {},
     "outputs": []
    },
    {
     "cell_type": "code",
     "collapsed": false,
     "input": [
      "class foo:\n",
      "    \n",
      "    def bar(self):\n",
      "        print \"foobar\"\n",
      "\n",
      "        \n",
      "def monkey_bar(self):\n",
      "    print \"monkey foobar\"\n",
      "\n",
      "a = foo()\n",
      "b = foo()"
     ],
     "language": "python",
     "metadata": {},
     "outputs": []
    },
    {
     "cell_type": "code",
     "collapsed": false,
     "input": [
      "a.bar = monkey_bar\n",
      "a.bar()"
     ],
     "language": "python",
     "metadata": {},
     "outputs": []
    },
    {
     "cell_type": "code",
     "collapsed": false,
     "input": [
      "import types\n",
      "\n",
      "a.bar = types.MethodType( monkey_bar, a )\n",
      "\n",
      "a.bar()\n",
      "b.bar()"
     ],
     "language": "python",
     "metadata": {},
     "outputs": []
    },
    {
     "cell_type": "heading",
     "level": 2,
     "metadata": {},
     "source": [
      "Metody Specjalne (wprowadzenie)"
     ]
    },
    {
     "cell_type": "markdown",
     "metadata": {},
     "source": [
      "    __init__ - konstruktor\n",
      "    __del__ - destruktor (nie korzystamy)\n",
      "    __add__, __sub__, __mul__ etc. - przeci\u0105\u017canie operator\u00f3w\n",
      "    __lt__ (<), __gt__ (<=), __eq__ (==), __ne__ (!=,<>), etc ... por\u00f3wnanie\n",
      "    __call__ - obiekt staje si\u0119 funktorem - mo\u017cna go wywo\u0142a\u0107 jak funkcj\u0119"
     ]
    },
    {
     "cell_type": "code",
     "collapsed": false,
     "input": [
      "class MyClass(object):\n",
      "    \"\"\" To jest doctring \"\"\"\n",
      "    \n",
      "    def __init__(self):\n",
      "        self.n=1\n",
      "        \n",
      "    def __getattr__(self,name):\n",
      "        print \"Looking for %s\" % name\n",
      "        return 0\n",
      "  "
     ],
     "language": "python",
     "metadata": {},
     "outputs": []
    },
    {
     "cell_type": "code",
     "collapsed": false,
     "input": [
      "a = MyClass()\n",
      "\n",
      "print a.n\n",
      "\n",
      "print \n",
      "\n",
      "print a.m"
     ],
     "language": "python",
     "metadata": {},
     "outputs": []
    },
    {
     "cell_type": "code",
     "collapsed": false,
     "input": [
      "print MyClass.__dict__\n",
      "\n",
      "print\n",
      "\n",
      "print a.__dict__"
     ],
     "language": "python",
     "metadata": {},
     "outputs": []
    },
    {
     "cell_type": "code",
     "collapsed": false,
     "input": [
      "class Borg:\n",
      "\n",
      "    __shared_state = {}\n",
      "\n",
      "    def __init__(self):\n",
      "        self.__dict__ = self.__shared_state\n",
      "        \n",
      "a=Borg()\n",
      "b=Borg()\n",
      "\n",
      "print a is b\n",
      "print\n",
      "\n",
      "a.n=17\n",
      "print b.n"
     ],
     "language": "python",
     "metadata": {},
     "outputs": []
    },
    {
     "cell_type": "code",
     "collapsed": false,
     "input": [
      "class MyClass(object):\n",
      "    \"\"\" To jest doctring \"\"\"\n",
      "    \n",
      "    def __init__(self):\n",
      "        self.n=1\n",
      "        \n",
      "    def __getattribute__(self,name):\n",
      "        print \"Looking for %s\" % name\n",
      "        return 0\n",
      "      \n",
      "    def __setattr__(self,name,value):\n",
      "        print \"Setting %s at %s\" % (name,value) #ta funkcja k\u0142amie, to pole wcale nie ma takiej warto\u015bci\n",
      "        return 0\n",
      "    "
     ],
     "language": "python",
     "metadata": {},
     "outputs": []
    },
    {
     "cell_type": "code",
     "collapsed": false,
     "input": [
      "a = MyClass()\n",
      "\n",
      "print a.n\n",
      "print a.m\n",
      "\n",
      "print \n",
      "\n",
      "a.n=3\n",
      "a.m=2"
     ],
     "language": "python",
     "metadata": {},
     "outputs": []
    },
    {
     "cell_type": "code",
     "collapsed": false,
     "input": [
      "class C(object):\n",
      "\n",
      "    def __init__(self):\n",
      "        self._x = 3\n",
      "\n",
      "    def getx(self):\n",
      "        return self._x\n",
      "\n",
      "    def setx(self, value):\n",
      "        self._x = value\n",
      "\n",
      "    def delx(self):\n",
      "        del self._x\n",
      "        \n",
      "    x = property(getx, setx, delx, \"I'm the 'x' property.\")"
     ],
     "language": "python",
     "metadata": {},
     "outputs": []
    },
    {
     "cell_type": "code",
     "collapsed": false,
     "input": [
      "c=C()\n",
      "\n",
      "print c.x"
     ],
     "language": "python",
     "metadata": {},
     "outputs": []
    },
    {
     "cell_type": "code",
     "collapsed": false,
     "input": [
      "class C(object):\n",
      "    def __init__(self):\n",
      "        self._x = 3\n",
      "\n",
      "    @property\n",
      "    def x(self):\n",
      "        \"\"\"I'm the 'x' property.\"\"\"\n",
      "        return self._x\n",
      "\n",
      "    @x.setter\n",
      "    def x(self, value):\n",
      "        self._x = value\n",
      "\n",
      "    @x.deleter\n",
      "    def x(self):\n",
      "        del self._x"
     ],
     "language": "python",
     "metadata": {},
     "outputs": []
    },
    {
     "cell_type": "code",
     "collapsed": false,
     "input": [
      "c=C()\n",
      "\n",
      "print c.x"
     ],
     "language": "python",
     "metadata": {},
     "outputs": []
    },
    {
     "cell_type": "heading",
     "level": 2,
     "metadata": {},
     "source": [
      "Dekoratory (continued)"
     ]
    },
    {
     "cell_type": "code",
     "collapsed": false,
     "input": [
      "def entryExit(f):\n",
      "    def new_f():\n",
      "        print \"Entering\", f.__name__\n",
      "        f()\n",
      "        print \"Exited\", f.__name__\n",
      "    return new_f\n"
     ],
     "language": "python",
     "metadata": {},
     "outputs": []
    },
    {
     "cell_type": "code",
     "collapsed": false,
     "input": [
      "@entryExit\n",
      "def func1():\n",
      "    print \"inside func1()\""
     ],
     "language": "python",
     "metadata": {},
     "outputs": []
    },
    {
     "cell_type": "code",
     "collapsed": false,
     "input": [
      "func1()"
     ],
     "language": "python",
     "metadata": {},
     "outputs": []
    },
    {
     "cell_type": "code",
     "collapsed": false,
     "input": [
      "class entryExit(object):\n",
      "    def __init__(self, f):\n",
      "        self.f = f\n",
      "        self.n = 0\n",
      "    def __call__(self):\n",
      "        self.n += 1\n",
      "        print \"Entering\", self.f.__name__, self.n, \"time\"+(\"s\" if self.n>1 else \"\")\n",
      "        self.f()\n",
      "        print \"Exited\", self.f.__name__\n",
      "@entryExit\n",
      "def func1():\n",
      "    print \"inside func1()\"\n"
     ],
     "language": "python",
     "metadata": {},
     "outputs": []
    },
    {
     "cell_type": "code",
     "collapsed": false,
     "input": [
      "@entryExit\n",
      "def func1():\n",
      "    print \"inside func1()\""
     ],
     "language": "python",
     "metadata": {},
     "outputs": []
    },
    {
     "cell_type": "code",
     "collapsed": false,
     "input": [
      "func1()"
     ],
     "language": "python",
     "metadata": {},
     "outputs": []
    },
    {
     "cell_type": "code",
     "collapsed": false,
     "input": [
      "class Decorator(object):\n",
      "    \n",
      "    def __init__(self, arg):\n",
      "        self.arg = arg\n",
      "    \n",
      "    def __call__(self, cls):\n",
      "        class Wrapped(cls):\n",
      "            classattr = self.arg\n",
      "            def new_method(self, value):\n",
      "                return value * 2\n",
      "        return Wrapped"
     ],
     "language": "python",
     "metadata": {},
     "outputs": []
    },
    {
     "cell_type": "code",
     "collapsed": false,
     "input": [
      "@Decorator(\"decorated class\")\n",
      "class TestClass(object):\n",
      "    \n",
      "    def new_method(self, value):\n",
      "        return value * 3\n",
      "    \n",
      "t = TestClass()\n",
      "\n",
      "print t.new_method(1)"
     ],
     "language": "python",
     "metadata": {},
     "outputs": []
    },
    {
     "cell_type": "code",
     "collapsed": false,
     "input": [],
     "language": "python",
     "metadata": {},
     "outputs": []
    }
   ],
   "metadata": {}
  }
 ]
}